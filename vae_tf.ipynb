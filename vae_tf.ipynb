{
 "cells": [
  {
   "cell_type": "code",
   "execution_count": 1,
   "metadata": {},
   "outputs": [],
   "source": [
    "import tensorflow as tf\n",
    "import numpy as np\n",
    "import matplotlib.pyplot as plt\n",
    "import pandas as pd"
   ]
  },
  {
   "cell_type": "code",
   "execution_count": 4,
   "metadata": {},
   "outputs": [],
   "source": [
    "def get_mnist(limit = None):\n",
    "    dt = pd.read_csv('C:\\\\Users\\\\Wei Guo\\\\Desktop\\\\data\\\\digit.csv')\n",
    "    dt_value = dt.values\n",
    "    X = dt_value[:,1:]\n",
    "    Y = dt_value[:,0]\n",
    "    if limit != None:\n",
    "        X = X[:int(limit)]\n",
    "        Y = Y[:int(limit)]\n",
    "    return X,Y"
   ]
  },
  {
   "cell_type": "code",
   "execution_count": 5,
   "metadata": {},
   "outputs": [],
   "source": [
    "st = tf.contrib.bayesflow.stochastic_tensor"
   ]
  },
  {
   "cell_type": "code",
   "execution_count": 6,
   "metadata": {},
   "outputs": [],
   "source": [
    "Normal = tf.contrib.distributions.Normal"
   ]
  },
  {
   "cell_type": "code",
   "execution_count": 7,
   "metadata": {},
   "outputs": [],
   "source": [
    "Bernoulli = tf.contrib.distributions.Bernoulli"
   ]
  },
  {
   "cell_type": "code",
   "execution_count": 32,
   "metadata": {},
   "outputs": [],
   "source": [
    "class DenseLayer:\n",
    "    def __init__(self,M1,M2,f=tf.nn.relu):\n",
    "        self.W = tf.Variable(tf.random_normal(shape=(M1,M2))*2/np.sqrt(M1))\n",
    "        self.b = tf.Variable(np.zeros(M2).astype(np.float32))\n",
    "        self.f = f\n",
    "    \n",
    "    def forward(self,X):\n",
    "        return self.f(tf.matmul(X,self.W)+self.b)"
   ]
  },
  {
   "cell_type": "code",
   "execution_count": 63,
   "metadata": {},
   "outputs": [],
   "source": [
    "class VAE:\n",
    "    def __init__(self, D, hidden_sizes):\n",
    "        self.X = tf.placeholder(tf.float32,shape=(None,D))\n",
    "        M_in = D\n",
    "        \n",
    "        #hidden-layers\n",
    "        self.encode_layers = []\n",
    "        for i in hidden_sizes[:-1]:\n",
    "            M_out = i\n",
    "            this_layer = DenseLayer(M1 = M_in, M2 = M_out)\n",
    "            self.encode_layers.append(this_layer)\n",
    "            M_in = M_out\n",
    "            \n",
    "        #hidden layer to Z\n",
    "        M = int(hidden_sizes[-1])\n",
    "        tem_layer = DenseLayer(M1 = M_in, M2 = 2*M,f = lambda x:x)\n",
    "        self.encode_layers.append(tem_layer)\n",
    "        \n",
    "        #get the distribution of z\n",
    "        current_value = self.X\n",
    "        for layer in self.encode_layers:\n",
    "            current_value = layer.forward(current_value)\n",
    "        self.means = current_value[:,:M]\n",
    "        self.sd = tf.nn.softplus(current_value[:,M:])\n",
    "        \n",
    "        #get sample from z\n",
    "        with st.value_type(st.SampleValue()):\n",
    "            self.Z = st.StochasticTensor(Normal(loc = self.means, scale = self.sd))\n",
    "        \n",
    "        self.decode_layers = []\n",
    "        M_in = M\n",
    "        for i in list(reversed(hidden_sizes[:-1])):\n",
    "            M_out = i\n",
    "            layer = DenseLayer(M1 = M_in, M2 = M_out)\n",
    "            self.decode_layers.append(layer)\n",
    "            M_in = M_out\n",
    "        \n",
    "        final_layer = DenseLayer(M1 = M_in, M2 = D, f = lambda x:x)\n",
    "        self.decode_layers.append(final_layer)\n",
    "        \n",
    "        #get logits\n",
    "        current_value = self.Z\n",
    "        for layer in self.decode_layers:\n",
    "            current_value = layer.forward(current_value)\n",
    "        logits = current_value\n",
    "        posterior_logits = logits\n",
    "        \n",
    "        self.X_hat = Bernoulli(logits=posterior_logits)\n",
    "        self.posterior_predict = self.X_hat.sample()\n",
    "        self.posterior_predict_probs = tf.nn.sigmoid(posterior_logits)\n",
    "        \n",
    "        #prior\n",
    "        std_normal = Normal(\n",
    "            loc = np.zeros(M,dtype=np.float32),\n",
    "            scale = np.ones(M, dtype = np.float32)\n",
    "        )\n",
    "        Z_std = std_normal.sample(1)\n",
    "        current_value = Z_std\n",
    "        for layer in self.decode_layers:\n",
    "            current_value = layer.forward(current_value)\n",
    "        logits = current_value\n",
    "        prior_logits = logits\n",
    "        prior_distri = Bernoulli(logits = prior_logits)\n",
    "        prior_predict = prior_distri.sample()\n",
    "        prior_predict_probs = tf.nn.sigmoid(prior_logits)\n",
    "        \n",
    "        #cost\n",
    "        k1 = tf.reduce_sum(tf.contrib.distributions.kl_divergence(self.Z.distribution,std_normal),1)\n",
    "        loglike = -tf.nn.sigmoid_cross_entropy_with_logits(\n",
    "            labels = self.X,\n",
    "            logits = self.posterior_predict_probs\n",
    "        )\n",
    "        \n",
    "        self.elbo = tf.reduce_sum(loglike - k1)\n",
    "        self.trainop = tf.train.RMSPropOptimizer(learning_rate=0.0001).minimize(-self.elbo)\n",
    "        \n",
    "        self.init = tf.global_variables_initializer()\n",
    "        self.sess = tf.InteractiveSession()\n",
    "        self.sess.run(self.init)\n",
    "    \n",
    "    def fit(self,X, epi = 30, batch_size = 50):\n",
    "        costs = []\n",
    "        batch_num = int(X.shape[0]/batch_size)\n",
    "        for i in range(epi):\n",
    "            np.random.shuffle(X)\n",
    "            for j in range(batch_num):\n",
    "                X_batch = X[int(j*batch_size):int(j*batch_size+1)]\n",
    "                _,c = self.sess.run((self.trainop,self.elbo),feed_dict={self.X:X_batch})\n",
    "                c /= batch_size\n",
    "                if j % 50 == 0:\n",
    "                    costs.append(c)\n",
    "        plt.plot(costs)\n",
    "        plt.show()\n",
    "    \n",
    "    def sample(self,X):\n",
    "        return self.sess.run(self.posterior_predict,feed_dict={self.X:X})"
   ]
  },
  {
   "cell_type": "code",
   "execution_count": 65,
   "metadata": {},
   "outputs": [
    {
     "data": {
      "image/png": "[encoded data removed]",
      "text/plain": [
       "<Figure size 432x288 with 1 Axes>"
      ]
     },
     "metadata": {},
     "output_type": "display_data"
    }
   ],
   "source": [
    "X,Y = get_mnist()\n",
    "X = (X>0.5).astype(np.float32)\n",
    "\n",
    "v = VAE(D=784,hidden_sizes=[200,100])\n",
    "v.fit(X)"
   ]
  },
  {
   "cell_type": "code",
   "execution_count": 76,
   "metadata": {},
   "outputs": [
    {
     "data": {
      "image/png": "[encoded data removed]",
      "text/plain": [
       "<Figure size 432x288 with 2 Axes>"
      ]
     },
     "metadata": {},
     "output_type": "display_data"
    }
   ],
   "source": [
    "i = np.random.choice(len(X))\n",
    "x = X[i]\n",
    "pos_pre = v.sample([x]).reshape(28,28)\n",
    "plt.subplot(1,2,1)\n",
    "plt.imshow(x.reshape(28,28),cmap='gray')\n",
    "plt.subplot(1,2,2)\n",
    "plt.imshow(pos_pre,cmap='gray')\n",
    "plt.show()"
   ]
  },
  {
   "cell_type": "code",
   "execution_count": null,
   "metadata": {},
   "outputs": [],
   "source": []
  },
  {
   "cell_type": "code",
   "execution_count": null,
   "metadata": {},
   "outputs": [],
   "source": []
  }
 ],
 "metadata": {
  "kernelspec": {
   "display_name": "Python [default]",
   "language": "python",
   "name": "python3"
  },
  "language_info": {
   "codemirror_mode": {
    "name": "ipython",
    "version": 3
   },
   "file_extension": ".py",
   "mimetype": "text/x-python",
   "name": "python",
   "nbconvert_exporter": "python",
   "pygments_lexer": "ipython3",
   "version": "3.6.5"
  }
 },
 "nbformat": 4,
 "nbformat_minor": 2
}
