{
 "cells": [
  {
   "cell_type": "code",
   "execution_count": 191,
   "metadata": {},
   "outputs": [],
   "source": [
    "import numpy as np\n",
    "import matplotlib.pyplot as plt\n",
    "from math import e"
   ]
  },
  {
   "cell_type": "code",
   "execution_count": 192,
   "metadata": {},
   "outputs": [],
   "source": [
    "def defsize(d,m,k,n_class):\n",
    "    return d,m,k,n_class"
   ]
  },
  {
   "cell_type": "code",
   "execution_count": 193,
   "metadata": {},
   "outputs": [],
   "source": [
    "def randomize(D,M,K):\n",
    "    W1 = np.random.rand(D,M)\n",
    "    b1 = np.random.rand(M)\n",
    "    W2 = np.random.rand(M,K)\n",
    "    b2 = np.random.rand(K)\n",
    "    \n",
    "    return W1,b1,W2,b2"
   ]
  },
  {
   "cell_type": "code",
   "execution_count": 194,
   "metadata": {},
   "outputs": [],
   "source": [
    "def datanize(D,K,N):\n",
    "    X1 = np.random.rand(N,D) + np.array([3,0])\n",
    "    X2 = np.random.rand(N,D) + np.array([0,3])\n",
    "    X3 = np.random.rand(N,D) + np.array([-3,-3])\n",
    "    X = np.vstack((X1,X2,X3))\n",
    "    \n",
    "    T_vector = np.array([0]*N+[1]*N + [2] * N)\n",
    "    \n",
    "    T_matrix = np.zeros((int(N*K),K))\n",
    "    for i in range(K):\n",
    "        T_matrix[500*int(i-1):500*int(i),i] = 1 \n",
    "    \n",
    "    return X,T_vector, T_matrix"
   ]
  },
  {
   "cell_type": "code",
   "execution_count": 195,
   "metadata": {},
   "outputs": [],
   "source": [
    "def sigmoid(a):\n",
    "    return 1/(1+np.exp(-a))"
   ]
  },
  {
   "cell_type": "code",
   "execution_count": 196,
   "metadata": {},
   "outputs": [],
   "source": [
    "def softmax(a):\n",
    "    return np.exp(a)/np.sum(np.exp(a),keepdims=True)"
   ]
  },
  {
   "cell_type": "code",
   "execution_count": 197,
   "metadata": {},
   "outputs": [],
   "source": [
    "def forward(X,W1,b1,W2,b2):\n",
    "    Z_pre = np.dot(X,W1)+ b1\n",
    "    Z = sigmoid(Z_pre)\n",
    "    a = np.dot(Z,W2) + b2\n",
    "    Y = softmax(a)\n",
    "    \n",
    "    return Z,Y "
   ]
  },
  {
   "cell_type": "code",
   "execution_count": 198,
   "metadata": {},
   "outputs": [],
   "source": [
    "def cost(T_matrix,Y):\n",
    "    return np.sum(np.multiply(T_matrix,Y))"
   ]
  },
  {
   "cell_type": "code",
   "execution_count": 213,
   "metadata": {},
   "outputs": [],
   "source": [
    "def classification_rate(T_vector,Y):\n",
    "    Y_vector = np.argmax(Y,axis=1)\n",
    "    total = Y_vector.shape[0]\n",
    "    print(Y_vector[:10])\n",
    "    print(T_vector[:10])\n",
    "    correct = np.sum(Y_vector == T_vector)\n",
    "    \n",
    "    return correct/total"
   ]
  },
  {
   "cell_type": "markdown",
   "metadata": {},
   "source": [
    "4 ways to implement the derivation. Use deri_w2 as example(top to bot, slow to fast)"
   ]
  },
  {
   "cell_type": "code",
   "execution_count": 219,
   "metadata": {},
   "outputs": [],
   "source": [
    "#slowest\n",
    "def deri_w2(T_matrix,Y,Z):\n",
    "    #W2 = np.random.rand(M,K)\n",
    "    N,M = Z.shape\n",
    "    K = T_matrix.shape[1]\n",
    "    deri_w2 = np.zeros((M,K))\n",
    "    for n in range(N):\n",
    "        for m in range(M):\n",
    "            for k in range(K):\n",
    "                deri_w2[m,k] += (T_matrix[n,k] - Y[n,k])*Z[n,m]\n",
    "    \n",
    "    return deri_w2"
   ]
  },
  {
   "cell_type": "code",
   "execution_count": 224,
   "metadata": {},
   "outputs": [],
   "source": [
    "def deri_w2_1(T_matrix,Y,Z):\n",
    "    N,M = Z.shape\n",
    "    K = T_matrix.shape[1]\n",
    "    deri_w2 = np.zeros((M,K))\n",
    "    for n in range(N):\n",
    "        for k in range(K):\n",
    "            #T-Y is constant, Z[n,:] and deri[:,k] are M length vector\n",
    "            deri_w2[:,k] += (T_matrix[n,k] - Y[n,k])*Z[n,:] \n",
    "    \n",
    "    return deri_w2"
   ]
  },
  {
   "cell_type": "code",
   "execution_count": 225,
   "metadata": {},
   "outputs": [],
   "source": [
    "def deri_w2_2(T_matrix,Y,Z):\n",
    "    N,M = Z.shape\n",
    "    K = T_matrix.shape[1]\n",
    "    deri_w2 = np.zeros((M,K))\n",
    "    \n",
    "    for n in range(N):\n",
    "        deri_w2 += np.outer(Z[n,:],T_matrix[n,:]-Y[n,:]) #M*K\n",
    "    return deri_w2"
   ]
  },
  {
   "cell_type": "code",
   "execution_count": null,
   "metadata": {},
   "outputs": [],
   "source": [
    "#fastest\n",
    "def deri_w2_3(T_matrix,Y,Z):\n",
    "    N,M = Z.shape\n",
    "    K = T_matrix.shape[1]\n",
    "    deri_w2 = Z.T.dot(T-Y) #knowledge of linear algebra\n",
    "    \n",
    "    return deri_w2"
   ]
  },
  {
   "cell_type": "code",
   "execution_count": 201,
   "metadata": {},
   "outputs": [],
   "source": [
    "def deri_b2(T_matrix,Y):\n",
    "    return np.sum(T_matrix-Y, axis = 0)\n",
    "# b2 is the specification of w2, here  z(n,m) = 1 always, so it can be transferred from deri_w2"
   ]
  },
  {
   "cell_type": "code",
   "execution_count": 202,
   "metadata": {},
   "outputs": [],
   "source": [
    "def deri_w1(T_matrix,Y,W2,Z,X):\n",
    "    N,M = Z.shape\n",
    "    K = T_matrix.shape[1]\n",
    "    D = X.shape[1]\n",
    "    deri_w1 = np.zeros((D,M))\n",
    "    \n",
    "    for n in range(N):\n",
    "        for m in range(M):\n",
    "            for d in range(D):\n",
    "                for k in range(K): #Z[1500,4=M]\n",
    "                    deri_w1[d,m] += (T_matrix[n,k] - Y[n,k])*W2[m,k]*Z[n,m]*(1-Z[n,m])*X[n,d]\n",
    "                    \n",
    "    return deri_w1"
   ]
  },
  {
   "cell_type": "code",
   "execution_count": 203,
   "metadata": {},
   "outputs": [],
   "source": [
    "def deri_b1(T_matrix,Y,W2,Z):\n",
    "    N,M = Z.shape\n",
    "    K = T_matrix.shape[1]\n",
    "    deri_b1 = np.zeros(M)\n",
    "    \n",
    "    for n in range(N):\n",
    "        for m in range(M):\n",
    "            for k in range(K): #Z[1500,4=M]\n",
    "                deri_b1[m]+= (T_matrix[n,k] - Y[n,k])*W2[m,k]*Z[n,m]*(1-Z[n,m])*1\n",
    "                    \n",
    "    return deri_b1"
   ]
  },
  {
   "cell_type": "code",
   "execution_count": 217,
   "metadata": {
    "scrolled": true
   },
   "outputs": [],
   "source": [
    "def ann(eta,epi):\n",
    "    D,M,K,N = defsize(d=2, m=4, k=3, n_class=500)\n",
    "    W1,b1,W2,b2 = randomize(D,M,K)\n",
    "    X, T_vector, T_matrix = datanize(D,K,N)\n",
    "    costs = []\n",
    "    for i in range(epi):\n",
    "        Z, Y = forward(X,W1,b1,W2,b2)\n",
    "        W2 += eta * deri_w2(T_matrix,Y,Z) #W2 <- W2 - eta * d(-log)/dw = W2 - eta* (-1) * deri_w2 #thats why here is +=\n",
    "        W1 += eta * deri_w1(T_matrix,Y,W2,Z,X)\n",
    "        b2 += eta * deri_b2(T_matrix,Y)\n",
    "        b1 += eta * deri_b1(T_matrix,Y,W2,Z)\n",
    "        if i % 100 == 0:\n",
    "            c = cost(T_matrix,Y)\n",
    "            r = classification_rate(T_vector,Y)\n",
    "            costs.append(c)\n",
    "            print(\"The cost is : \"+str(c)+\" . The classification rate is : \"+str(r)+\" .\")"
   ]
  },
  {
   "cell_type": "code",
   "execution_count": 218,
   "metadata": {},
   "outputs": [
    {
     "name": "stdout",
     "output_type": "stream",
     "text": [
      "[1 1 1 1 1 1 1 1 1 1]\n",
      "[0 0 0 0 0 0 0 0 0 0]\n",
      "The cost is : 0.3265428804999796 . The classification rate is : 0.3333333333333333 .\n",
      "[1 1 1 1 1 1 1 1 1 1]\n",
      "[0 0 0 0 0 0 0 0 0 0]\n",
      "The cost is : 0.5030679473418662 . The classification rate is : 0.3333333333333333 .\n",
      "[1 1 1 1 1 1 1 1 1 1]\n",
      "[0 0 0 0 0 0 0 0 0 0]\n",
      "The cost is : 0.5008099421421485 . The classification rate is : 0.6446666666666667 .\n",
      "[1 1 1 1 1 1 1 1 1 1]\n",
      "[0 0 0 0 0 0 0 0 0 0]\n",
      "The cost is : 0.5003610855164803 . The classification rate is : 0.6666666666666666 .\n",
      "[1 1 1 1 1 1 1 1 1 1]\n",
      "[0 0 0 0 0 0 0 0 0 0]\n",
      "The cost is : 0.5001991955365086 . The classification rate is : 0.6666666666666666 .\n"
     ]
    }
   ],
   "source": [
    "ann(1e-4,500)"
   ]
  }
 ],
 "metadata": {
  "kernelspec": {
   "display_name": "Python 3",
   "language": "python",
   "name": "python3"
  },
  "language_info": {
   "codemirror_mode": {
    "name": "ipython",
    "version": 3
   },
   "file_extension": ".py",
   "mimetype": "text/x-python",
   "name": "python",
   "nbconvert_exporter": "python",
   "pygments_lexer": "ipython3",
   "version": "3.6.4"
  }
 },
 "nbformat": 4,
 "nbformat_minor": 2
}
