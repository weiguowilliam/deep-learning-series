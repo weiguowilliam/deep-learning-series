{
 "cells": [
  {
   "cell_type": "code",
   "execution_count": 1,
   "metadata": {},
   "outputs": [],
   "source": [
    "import cv2\n",
    "import numpy as np"
   ]
  },
  {
   "cell_type": "code",
   "execution_count": 7,
   "metadata": {},
   "outputs": [],
   "source": [
    "image = cv2.imread('WaldoBeach.jpg')\n",
    "# cv2.imshow('image',image)\n",
    "# cv2.waitKey()\n",
    "grey = cv2.cvtColor(image,cv2.COLOR_BGR2GRAY)\n",
    "\n",
    "temp = cv2.imread('waldo.jpg',0)\n",
    "res = cv2.matchTemplate(grey, temp,cv2.TM_CCOEFF)\n",
    "_,_,_,max_loc = cv2.minMaxLoc(res)\n",
    "\n",
    "cv2.rectangle(image,max_loc,(max_loc[0]+50,max_loc[1]+50),(0,0,255),5)\n",
    "\n",
    "cv2.imshow('where',image)\n",
    "cv2.waitKey()\n",
    "cv2.destroyAllWindows()\n",
    "\n"
   ]
  },
  {
   "cell_type": "code",
   "execution_count": 6,
   "metadata": {},
   "outputs": [
    {
     "data": {
      "text/plain": [
       "(484, 262)"
      ]
     },
     "execution_count": 6,
     "metadata": {},
     "output_type": "execute_result"
    }
   ],
   "source": [
    "max_loc"
   ]
  },
  {
   "cell_type": "code",
   "execution_count": null,
   "metadata": {},
   "outputs": [],
   "source": []
  }
 ],
 "metadata": {
  "kernelspec": {
   "display_name": "Python 3",
   "language": "python",
   "name": "python3"
  },
  "language_info": {
   "codemirror_mode": {
    "name": "ipython",
    "version": 3
   },
   "file_extension": ".py",
   "mimetype": "text/x-python",
   "name": "python",
   "nbconvert_exporter": "python",
   "pygments_lexer": "ipython3",
   "version": "3.6.4"
  }
 },
 "nbformat": 4,
 "nbformat_minor": 2
}
