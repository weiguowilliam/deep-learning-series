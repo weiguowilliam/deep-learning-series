{
 "cells": [
  {
   "cell_type": "markdown",
   "metadata": {},
   "source": [
    "### face"
   ]
  },
  {
   "cell_type": "code",
   "execution_count": 1,
   "metadata": {},
   "outputs": [],
   "source": [
    "import cv2\n",
    "import numpy as np"
   ]
  },
  {
   "cell_type": "code",
   "execution_count": 2,
   "metadata": {},
   "outputs": [],
   "source": [
    "face_classifier = cv2.CascadeClassifier('Haarcascades/haarcascade_frontalface_default.xml')\n",
    "image = cv2.imread('xiaobo.jpg')\n",
    "grey = cv2.cvtColor(image,cv2.COLOR_BGR2GRAY)"
   ]
  },
  {
   "cell_type": "code",
   "execution_count": 3,
   "metadata": {},
   "outputs": [],
   "source": [
    "faceRec = face_classifier.detectMultiScale(grey,scaleFactor = 1.1, minNeighbors = 1)"
   ]
  },
  {
   "cell_type": "code",
   "execution_count": 7,
   "metadata": {},
   "outputs": [],
   "source": [
    "for (x,y,w,h) in faceRec:\n",
    "    cv2.rectangle(image,(x,y),(x+w,y+h),(255,0,0),2)\n",
    "    cv2.imshow('face',image)\n",
    "    cv2.waitKey(0)\n",
    "    \n",
    "cv2.destroyAllWindows()"
   ]
  },
  {
   "cell_type": "markdown",
   "metadata": {},
   "source": [
    "### face&eyes"
   ]
  },
  {
   "cell_type": "code",
   "execution_count": 12,
   "metadata": {},
   "outputs": [],
   "source": [
    "import cv2\n",
    "import numpy as np"
   ]
  },
  {
   "cell_type": "code",
   "execution_count": 13,
   "metadata": {},
   "outputs": [],
   "source": [
    "eye_classifier = cv2.CascadeClassifier('Haarcascades/haarcascade_eye.xml')\n",
    "face_classifier = cv2.CascadeClassifier('Haarcascades/haarcascade_frontalface_default.xml')"
   ]
  },
  {
   "cell_type": "code",
   "execution_count": 14,
   "metadata": {},
   "outputs": [],
   "source": [
    "image = cv2.imread('face.jpg')\n",
    "grey = cv2.cvtColor(image,cv2.COLOR_BGR2GRAY)"
   ]
  },
  {
   "cell_type": "code",
   "execution_count": 15,
   "metadata": {},
   "outputs": [],
   "source": [
    "faceRec = face_classifier.detectMultiScale(grey,scaleFactor = 1.1, minNeighbors = 1)"
   ]
  },
  {
   "cell_type": "code",
   "execution_count": 16,
   "metadata": {},
   "outputs": [],
   "source": [
    "for (x,y,w,h) in faceRec:\n",
    "    cv2.rectangle(image,(x,y),(x+w,y+h),(255,0,0),2)\n",
    "    cv2.imshow('face',image)\n",
    "    cv2.waitKey()\n",
    "    eye_img = image[y:y+h,x:x+w]\n",
    "    eye_grey = grey[y:y+h,x:x+w]\n",
    "    eyeRec = eye_classifier.detectMultiScale(eye_grey)\n",
    "    for (ex,ey,ew,eh) in eyeRec:\n",
    "        cv2.rectangle(eye_img,(ex,ey),(ex+ew,ey+eh),(0,0,255),2)\n",
    "        cv2.imshow('eye',image)\n",
    "        cv2.waitKey(0)\n",
    "\n",
    "cv2.destroyAllWindows()"
   ]
  },
  {
   "cell_type": "markdown",
   "metadata": {},
   "source": [
    "### with video"
   ]
  },
  {
   "cell_type": "code",
   "execution_count": 2,
   "metadata": {},
   "outputs": [],
   "source": [
    "import numpy as np\n",
    "import cv2\n",
    "import time"
   ]
  },
  {
   "cell_type": "code",
   "execution_count": 3,
   "metadata": {},
   "outputs": [],
   "source": [
    "face_classifier = cv2.CascadeClassifier('Haarcascades/haarcascade_frontalface_default.xml')\n",
    "eye_classifier = cv2.CascadeClassifier('Haarcascades/haarcascade_eye.xml')"
   ]
  },
  {
   "cell_type": "code",
   "execution_count": 5,
   "metadata": {},
   "outputs": [],
   "source": [
    "def my_detector(img):\n",
    "    grey = cv2.cvtColor(img,cv2.COLOR_BGR2GRAY)\n",
    "    faceRec = face_classifier.detectMultiScale(grey,scaleFactor = 1.1, minNeighbors = 1)\n",
    "    if faceRec is ():\n",
    "        return img\n",
    "    for (x,y,w,h) in faceRec:\n",
    "        cv2.rectangle(img,(x-50,y-50),(x+w+50,y+h+50),(255,0,0),2)\n",
    "    \n",
    "        eye_img = img[y:y+h,x:x+w]\n",
    "        eye_grey = grey[y:y+h,x:x+w]\n",
    "        eyeRec = eye_classifier.detectMultiScale(eye_grey)\n",
    "        for (ex,ey,ew,eh) in eyeRec:\n",
    "            cv2.rectangle(eye_img,(ex,ey),(ex+ew,ey+eh),(0,0,255),2)\n",
    "    \n",
    "    eye_img = cv2.flip(eye_img,1)\n",
    "    return eye_img"
   ]
  },
  {
   "cell_type": "code",
   "execution_count": 7,
   "metadata": {
    "scrolled": true
   },
   "outputs": [],
   "source": [
    "cap = cv2.VideoCapture(0)\n",
    "cap.open(0)\n",
    "\n",
    "while True:\n",
    "    ret,frame = cap.read()\n",
    "    cv2.imshow('video',my_detector(frame))\n",
    "    if cv2.waitKey(0) == 27:\n",
    "        break\n",
    "cap.release()\n",
    "cv2.destroyAllWindows()"
   ]
  },
  {
   "cell_type": "markdown",
   "metadata": {},
   "source": [
    "### pedestrain"
   ]
  },
  {
   "cell_type": "code",
   "execution_count": 13,
   "metadata": {},
   "outputs": [],
   "source": [
    "import cv2\n",
    "import numpy as np\n",
    "\n",
    "body_classifier = cv2.CascadeClassifier('Haarcascades/haarcascade_fullbody.xml')\n",
    "\n",
    "def my_detector(img):\n",
    "    grey = cv2.cvtColor(img,cv2.COLOR_BGR2GRAY)\n",
    "    bodyrec = body_classifier.detectMultiScale(grey,scaleFactor = 1.1, minNeighbors = 1)\n",
    "    if bodyrec is ():\n",
    "        return img\n",
    "    for(x,y,w,h) in bodyrec:\n",
    "        cv2.rectangle(img,(x,y),(x+w,y+h),(255,0,0),2)\n",
    "    \n",
    "    img = cv2.flip(img,1)\n",
    "    return img\n",
    "\n",
    "cap = cv2.VideoCapture('people.avi')\n",
    "\n",
    "while cap.isOpened():\n",
    "    ret, frame = cap.read()\n",
    "    frame = cv2.resize(frame, None, fx = 0.5,fy=0.5,interpolation = cv2.INTER_LINEAR)\n",
    "    \n",
    "    cv2.imshow('people',my_detector(frame))\n",
    "    if cv2.waitKey(0) == 27:\n",
    "        break\n",
    "\n",
    "cap.release()\n",
    "cv2.destroyAllWindows()"
   ]
  },
  {
   "cell_type": "code",
   "execution_count": null,
   "metadata": {},
   "outputs": [],
   "source": []
  }
 ],
 "metadata": {
  "kernelspec": {
   "display_name": "Python 3",
   "language": "python",
   "name": "python3"
  },
  "language_info": {
   "codemirror_mode": {
    "name": "ipython",
    "version": 3
   },
   "file_extension": ".py",
   "mimetype": "text/x-python",
   "name": "python",
   "nbconvert_exporter": "python",
   "pygments_lexer": "ipython3",
   "version": "3.6.4"
  }
 },
 "nbformat": 4,
 "nbformat_minor": 2
}
