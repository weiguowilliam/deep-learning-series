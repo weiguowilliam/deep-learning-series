{
 "cells": [
  {
   "cell_type": "markdown",
   "metadata": {},
   "source": [
    "### Beginning"
   ]
  },
  {
   "cell_type": "code",
   "execution_count": 1,
   "metadata": {},
   "outputs": [],
   "source": [
    "import cv2\n",
    "import numpy as np"
   ]
  },
  {
   "cell_type": "code",
   "execution_count": 6,
   "metadata": {},
   "outputs": [],
   "source": [
    "input = cv2.imread('jg.jpg')"
   ]
  },
  {
   "cell_type": "code",
   "execution_count": 8,
   "metadata": {},
   "outputs": [],
   "source": [
    "cv2.imshow('Hello World',input)\n",
    "cv2.waitKey()\n",
    "cv2.destroyAllWindows()"
   ]
  },
  {
   "cell_type": "code",
   "execution_count": 9,
   "metadata": {},
   "outputs": [
    {
     "name": "stdout",
     "output_type": "stream",
     "text": [
      "(444, 995, 3)\n"
     ]
    }
   ],
   "source": [
    "print(input.shape)"
   ]
  },
  {
   "cell_type": "code",
   "execution_count": 10,
   "metadata": {},
   "outputs": [
    {
     "data": {
      "text/plain": [
       "True"
      ]
     },
     "execution_count": 10,
     "metadata": {},
     "output_type": "execute_result"
    }
   ],
   "source": [
    "cv2.imwrite('output.jpg',input)"
   ]
  },
  {
   "cell_type": "markdown",
   "metadata": {},
   "source": [
    "### Greyscale"
   ]
  },
  {
   "cell_type": "code",
   "execution_count": 2,
   "metadata": {},
   "outputs": [],
   "source": [
    "input = cv2.imread('canyon.jpg')\n",
    "grey_img = cv2.cvtColor(input,cv2.COLOR_BGR2GRAY)\n",
    "cv2.imshow('grey image',grey_img)\n",
    "cv2.waitKey()\n",
    "cv2.destroyAllWindows()"
   ]
  },
  {
   "cell_type": "code",
   "execution_count": 4,
   "metadata": {},
   "outputs": [],
   "source": [
    "#faster way\n",
    "input = cv2.imread('canyon.jpg',0)\n",
    "cv2.imshow('grey',input)\n",
    "cv2.waitKey()\n",
    "cv2.destroyAllWindows()"
   ]
  },
  {
   "cell_type": "markdown",
   "metadata": {},
   "source": [
    "### Color Space"
   ]
  },
  {
   "cell_type": "markdown",
   "metadata": {},
   "source": [
    "#### BGR"
   ]
  },
  {
   "cell_type": "code",
   "execution_count": 6,
   "metadata": {},
   "outputs": [
    {
     "name": "stdout",
     "output_type": "stream",
     "text": [
      "192 187 188\n"
     ]
    }
   ],
   "source": [
    "input = cv2.imread('canyon.jpg')\n",
    "B, G, R = input[0,0]\n",
    "print(B,G,R)"
   ]
  },
  {
   "cell_type": "code",
   "execution_count": 7,
   "metadata": {},
   "outputs": [
    {
     "name": "stdout",
     "output_type": "stream",
     "text": [
      "188\n"
     ]
    }
   ],
   "source": [
    "grey_input  = cv2.imread('canyon.jpg',0)\n",
    "print(grey_input[0,0])"
   ]
  },
  {
   "cell_type": "markdown",
   "metadata": {},
   "source": [
    "#### HSV"
   ]
  },
  {
   "cell_type": "code",
   "execution_count": 2,
   "metadata": {},
   "outputs": [],
   "source": [
    "input = cv2.imread('canyon.jpg')\n",
    "hsv_input = cv2.cvtColor(input,cv2.COLOR_BGR2HSV)\n",
    "cv2.imshow('hsv',hsv_input)\n",
    "cv2.imshow('hue',hsv_input[:,:,0])\n",
    "\n",
    "cv2.imshow('saturation',hsv_input[:,:,1])\n",
    "\n",
    "cv2.imshow('value(brightness)',hsv_input[:,:,2])\n",
    "cv2.waitKey()\n",
    "cv2.destroyAllWindows()"
   ]
  },
  {
   "cell_type": "markdown",
   "metadata": {},
   "source": [
    "#### split"
   ]
  },
  {
   "cell_type": "code",
   "execution_count": 4,
   "metadata": {},
   "outputs": [],
   "source": [
    "input = cv2.imread('canyon.jpg')\n",
    "# input = cv2.cvtColor(input,cv2.COLOR_BGR2HSV)\n",
    "B,G,R = cv2.split(input)\n",
    "cv2.imshow('B',B)\n",
    "cv2.imshow('G',G)\n",
    "cv2.imshow('R',R)\n",
    "cv2.waitKey()\n",
    "cv2.destroyAllWindows()"
   ]
  },
  {
   "cell_type": "markdown",
   "metadata": {},
   "source": [
    "#### merge&amplify"
   ]
  },
  {
   "cell_type": "code",
   "execution_count": 14,
   "metadata": {},
   "outputs": [],
   "source": [
    "input = cv2.imread('canyon.jpg')\n",
    "B,G,R = cv2.split(input)\n",
    "cv2.imshow('original',input)\n",
    "merged = cv2.merge([B,G,R])\n",
    "cv2.imshow('merged',merged)\n",
    "amplified = cv2.merge([B+100,G,R])\n",
    "cv2.imshow('amplified',amplified)\n",
    "cv2.waitKey(0)\n",
    "cv2.destroyAllWindows()"
   ]
  },
  {
   "cell_type": "code",
   "execution_count": 17,
   "metadata": {},
   "outputs": [],
   "source": [
    "zeros = np.zeros(input.shape[:2],dtype=\"uint8\")\n",
    "cv2.imshow('B=0',cv2.merge([zeros,G,R]))\n",
    "cv2.imshow('G=0',cv2.merge([B,zeros,R]))\n",
    "cv2.imshow('R=0',cv2.merge([B,G,zeros]))\n",
    "cv2.waitKey(0)\n",
    "cv2.destroyAllWindows()"
   ]
  },
  {
   "cell_type": "markdown",
   "metadata": {},
   "source": [
    "### Histogram"
   ]
  },
  {
   "cell_type": "code",
   "execution_count": 18,
   "metadata": {},
   "outputs": [],
   "source": [
    "from matplotlib import pyplot as plt"
   ]
  },
  {
   "cell_type": "code",
   "execution_count": 22,
   "metadata": {},
   "outputs": [
    {
     "data": {
      "image/png": "[encoded data removed]",
      "text/plain": [
       "<matplotlib.figure.Figure at 0x1d14e86f080>"
      ]
     },
     "metadata": {},
     "output_type": "display_data"
    }
   ],
   "source": [
    "input = cv2.imread('canyon.jpg')\n",
    "hist = cv2.calcHist([input],[0],None,[256],[0,256])\n",
    "plt.hist(input.ravel(),bins=256,range=[0,256])\n",
    "plt.show()"
   ]
  },
  {
   "cell_type": "code",
   "execution_count": 24,
   "metadata": {},
   "outputs": [
    {
     "data": {
      "image/png": "[encoded data removed]",
      "text/plain": [
       "<matplotlib.figure.Figure at 0x1d14ed18978>"
      ]
     },
     "metadata": {},
     "output_type": "display_data"
    }
   ],
   "source": [
    "color = ('b','g','r')\n",
    "input = cv2.imread('canyon.jpg')\n",
    "\n",
    "for i, c in enumerate(color):\n",
    "    hist = cv2.calcHist([input],[i],None,[256],[0,256])\n",
    "    plt.plot(hist,color=c)\n",
    "\n",
    "plt.show()"
   ]
  },
  {
   "cell_type": "markdown",
   "metadata": {},
   "source": [
    "### draw image"
   ]
  },
  {
   "cell_type": "code",
   "execution_count": 32,
   "metadata": {},
   "outputs": [],
   "source": [
    "image = np.zeros((512,512,3),np.uint8)\n",
    "image1 = np.zeros((512,512),np.uint8)\n",
    "cv2.imshow('3dim',image)\n",
    "cv2.imshow('2dim',image)\n",
    "cv2.waitKey()\n",
    "cv2.destroyAllWindows()"
   ]
  },
  {
   "cell_type": "markdown",
   "metadata": {},
   "source": [
    "#### line"
   ]
  },
  {
   "cell_type": "code",
   "execution_count": 34,
   "metadata": {},
   "outputs": [],
   "source": [
    "image = np.zeros((512,512,3),np.uint8)\n",
    "cv2.line(image,(10,10),(500,500),(12,42,100),6)\n",
    "cv2.imshow('line',image)\n",
    "cv2.waitKey()\n",
    "cv2.destroyAllWindows()"
   ]
  },
  {
   "cell_type": "markdown",
   "metadata": {},
   "source": [
    "#### rectangle"
   ]
  },
  {
   "cell_type": "code",
   "execution_count": 2,
   "metadata": {},
   "outputs": [],
   "source": [
    "image = np.zeros((512,512,3),np.uint8)\n",
    "cv2.rectangle(image,(10,10),(50,50),(12,42,100),6)\n",
    "cv2.imshow('rectangle',image)\n",
    "cv2.waitKey()\n",
    "cv2.destroyAllWindows()"
   ]
  },
  {
   "cell_type": "markdown",
   "metadata": {},
   "source": [
    "#### circle"
   ]
  },
  {
   "cell_type": "code",
   "execution_count": 3,
   "metadata": {},
   "outputs": [],
   "source": [
    "image = np.zeros((512,512,3),np.uint8)\n",
    "cv2.circle(image,(100,100),50,(100,25,14),-1)\n",
    "cv2.imshow('circle',image)\n",
    "cv2.waitKey()\n",
    "cv2.destroyAllWindows()"
   ]
  },
  {
   "cell_type": "markdown",
   "metadata": {},
   "source": [
    "#### polygon"
   ]
  },
  {
   "cell_type": "code",
   "execution_count": 10,
   "metadata": {},
   "outputs": [],
   "source": [
    "image = np.zeros((512,512,3),np.uint8)\n",
    "points = np.array([[10,10],[24,35],[43,64],[69,80]],np.int32)\n",
    "points = points.reshape((-1,1,2))\n",
    "cv2.polylines(image,[points],True,(100,25,14),3)\n",
    "cv2.imshow('polygon',image)\n",
    "cv2.waitKey()\n",
    "cv2.destroyAllWindows()"
   ]
  },
  {
   "cell_type": "markdown",
   "metadata": {},
   "source": [
    "#### Text"
   ]
  },
  {
   "cell_type": "code",
   "execution_count": 15,
   "metadata": {},
   "outputs": [],
   "source": [
    "image = np.zeros((512,512,3),np.uint8)\n",
    "cv2.putText(image,'hello world!',(12,140),cv2.FONT_HERSHEY_COMPLEX,2,(100,25,14),3)\n",
    "cv2.imshow('text',image)\n",
    "cv2.waitKey()\n",
    "cv2.destroyAllWindows()"
   ]
  },
  {
   "cell_type": "code",
   "execution_count": null,
   "metadata": {},
   "outputs": [],
   "source": []
  }
 ],
 "metadata": {
  "kernelspec": {
   "display_name": "Python 3",
   "language": "python",
   "name": "python3"
  },
  "language_info": {
   "codemirror_mode": {
    "name": "ipython",
    "version": 3
   },
   "file_extension": ".py",
   "mimetype": "text/x-python",
   "name": "python",
   "nbconvert_exporter": "python",
   "pygments_lexer": "ipython3",
   "version": "3.6.4"
  }
 },
 "nbformat": 4,
 "nbformat_minor": 2
}
