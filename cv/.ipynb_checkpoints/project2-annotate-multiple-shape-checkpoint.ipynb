{
 "cells": [
  {
   "cell_type": "code",
   "execution_count": 1,
   "metadata": {},
   "outputs": [],
   "source": [
    "import cv2"
   ]
  },
  {
   "cell_type": "code",
   "execution_count": 2,
   "metadata": {},
   "outputs": [],
   "source": [
    "image = cv2.imread('shape2.jpg')\n",
    "gray = cv2.cvtColor(image,cv2.COLOR_BGR2GRAY)\n",
    "ret,threshold = cv2.threshold(gray,177,255,1)\n",
    "canny = cv2.Canny(gray,100,200)\n",
    "cv2.imshow('thre',threshold)\n",
    "cv2.waitKey()\n",
    "cv2.destroyAllWindows()"
   ]
  },
  {
   "cell_type": "code",
   "execution_count": 3,
   "metadata": {},
   "outputs": [],
   "source": [
    "_,contours,_ = cv2.findContours(threshold,cv2.RETR_LIST,cv2.CHAIN_APPROX_SIMPLE)"
   ]
  },
  {
   "cell_type": "code",
   "execution_count": 5,
   "metadata": {},
   "outputs": [
    {
     "name": "stdout",
     "output_type": "stream",
     "text": [
      "744 538\n",
      "210 538\n",
      "524 266\n",
      "210 148\n",
      "818 141\n"
     ]
    }
   ],
   "source": [
    "\n",
    "for cnt in contours:\n",
    "\n",
    "    approx = cv2.approxPolyDP(cnt, 0.1*cv2.arcLength(cnt,True),True)\n",
    "    M = cv2.moments(cnt)\n",
    "    if M[\"m00\"] != 0:\n",
    "        cx = int(M[\"m10\"] / M[\"m00\"])\n",
    "        cy = int(M[\"m01\"] / M[\"m00\"])\n",
    "    else:\n",
    "        cX, cY = 0, 0\n",
    "\n",
    "    if len(cnt) == 3:\n",
    "        shape_text = \"triangle\"\n",
    "        cv2.drawContours(image,[cnt],0,[255,0,0],3)\n",
    "        cv2.putText(image,shape_text,(cx,cy),cv2.FONT_HERSHEY_COMPLEX,4,(0,0,255),2,cv2.LINE_AA)\n",
    "    \n",
    "    if len(cnt) == 4:\n",
    "        x,y,w,h = cv2.boundingRect(cnt)\n",
    "        if abs(w-h) < 4:\n",
    "            shape_text = \"square\"\n",
    "            cv2.drawContours(image,[cnt],0,[255,0,0],3)\n",
    "            cv2.putText(image,shape_text,(cx,cy),cv2.FONT_HERSHEY_COMPLEX,4,(0,0,255),2,cv2.LINE_AA)\n",
    "        else:\n",
    "            shape_text = \"rectangle\"\n",
    "            cv2.drawContours(image,[cnt],0,[255,0,0],3)\n",
    "            cv2.putText(image,shape_text,(cx,cy),cv2.FONT_HERSHEY_COMPLEX,4,(0,0,255),2,cv2.LINE_AA)\n",
    "    \n",
    "    if len(cnt) == 5:\n",
    "        shape_text = \"wujiaoxing\"\n",
    "        cv2.drawContours(image,[cnt],0,[255,0,0],3)\n",
    "        cv2.putText(image,shape_text,(cx,cy),cv2.FONT_HERSHEY_COMPLEX,4,(0,0,255),2,cv2.LINE_AA)\n",
    "    \n",
    "    if len(cnt) > 10:\n",
    "        shape_text = \"circle\"\n",
    "        cv2.drawContours(image,[cnt],0,[255,0,0],3)\n",
    "        cv2.putText(image,shape_text,(cx,cy),cv2.FONT_HERSHEY_COMPLEX,4,(0,0,255),2,cv2.LINE_AA)\n",
    "        \n",
    "    cv2.imshow('final',image)\n",
    "    cv2.waitKey()\n",
    "    print(str(cx)+\" \"+str(cy))\n",
    "    \n",
    "cv2.destroyAllWindows()"
   ]
  },
  {
   "cell_type": "code",
   "execution_count": null,
   "metadata": {},
   "outputs": [],
   "source": []
  }
 ],
 "metadata": {
  "kernelspec": {
   "display_name": "Python 3",
   "language": "python",
   "name": "python3"
  },
  "language_info": {
   "codemirror_mode": {
    "name": "ipython",
    "version": 3
   },
   "file_extension": ".py",
   "mimetype": "text/x-python",
   "name": "python",
   "nbconvert_exporter": "python",
   "pygments_lexer": "ipython3",
   "version": "3.6.4"
  }
 },
 "nbformat": 4,
 "nbformat_minor": 2
}
