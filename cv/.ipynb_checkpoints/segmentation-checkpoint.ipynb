{
 "cells": [
  {
   "cell_type": "code",
   "execution_count": 1,
   "metadata": {},
   "outputs": [],
   "source": [
    "import cv2\n",
    "import numpy as np"
   ]
  },
  {
   "cell_type": "code",
   "execution_count": 26,
   "metadata": {},
   "outputs": [],
   "source": [
    "image = cv2.imread('shape.jpg')\n",
    "image_grey = cv2.cvtColor(image,cv2.COLOR_BGR2GRAY)\n",
    "image_edge = cv2.Canny(image_grey,30,200)"
   ]
  },
  {
   "cell_type": "code",
   "execution_count": 27,
   "metadata": {},
   "outputs": [],
   "source": [
    "_, contours, _ = cv2.findContours(image_edge, cv2.RETR_EXTERNAL, cv2.CHAIN_APPROX_NONE)\n",
    "cv2.imshow('contour',image_edge)\n",
    "cv2.waitKey()\n",
    "cv2.destroyAllWindows()"
   ]
  },
  {
   "cell_type": "code",
   "execution_count": 29,
   "metadata": {},
   "outputs": [],
   "source": [
    "cv2.drawContours(image,contours,-1,(255,0,0),3)\n",
    "cv2.imshow('all contours',image)\n",
    "cv2.waitKey()\n",
    "cv2.destroyAllWindows()"
   ]
  },
  {
   "cell_type": "markdown",
   "metadata": {},
   "source": [
    "### Sort"
   ]
  },
  {
   "cell_type": "code",
   "execution_count": 2,
   "metadata": {},
   "outputs": [],
   "source": [
    "image = cv2.imread('shape.jpg')\n",
    "image_blank = np.zeros((image.shape[0],image.shape[1],3))\n",
    "image_original = image\n",
    "image_grey = cv2.cvtColor(image,cv2.COLOR_BGR2GRAY)\n",
    "image_edge = cv2.Canny(image_grey,50,200)\n",
    "_, contours, _ = cv2.findContours(image_edge.copy(),cv2.RETR_EXTERNAL,cv2.CHAIN_APPROX_NONE)\n"
   ]
  },
  {
   "cell_type": "code",
   "execution_count": 3,
   "metadata": {},
   "outputs": [],
   "source": [
    "def get_contours_ares(cnts):\n",
    "    cnt_areas = []\n",
    "    for cnt in cnts:\n",
    "        cnt_areas.append(cv2.contourArea(cnt))\n",
    "    return cnt_areas"
   ]
  },
  {
   "cell_type": "code",
   "execution_count": 4,
   "metadata": {},
   "outputs": [
    {
     "name": "stdout",
     "output_type": "stream",
     "text": [
      "[765402.0, 597328.0, 520390.5, 820834.5, 757505.5, 0.5]\n"
     ]
    }
   ],
   "source": [
    "print(get_contours_ares(contours))"
   ]
  },
  {
   "cell_type": "code",
   "execution_count": 5,
   "metadata": {},
   "outputs": [
    {
     "name": "stdout",
     "output_type": "stream",
     "text": [
      "[820834.5, 765402.0, 757505.5, 597328.0, 520390.5, 0.5]\n"
     ]
    }
   ],
   "source": [
    "contours_sorted = sorted(contours, key = cv2.contourArea, reverse = True)\n",
    "print(get_contours_ares(contours_sorted))"
   ]
  },
  {
   "cell_type": "code",
   "execution_count": 6,
   "metadata": {},
   "outputs": [],
   "source": [
    "for c in contours_sorted:\n",
    "    cv2.drawContours(image_original,[c],-1,(0,0,255),3)\n",
    "    cv2.waitKey(0)\n",
    "    cv2.imshow('show',image_original)\n",
    "    \n",
    "cv2.waitKey()\n",
    "cv2.destroyAllWindows()"
   ]
  },
  {
   "cell_type": "markdown",
   "metadata": {},
   "source": [
    "### by x-axis "
   ]
  },
  {
   "cell_type": "code",
   "execution_count": 7,
   "metadata": {},
   "outputs": [],
   "source": [
    "def get_center_x(cnt):\n",
    "    M = cv2.moments(cnt)\n",
    "    return int(M['m10']/M['m00'])"
   ]
  },
  {
   "cell_type": "code",
   "execution_count": 11,
   "metadata": {},
   "outputs": [],
   "source": [
    "def draw_center_label(image,cnt):\n",
    "    M = cv2.moments(cnt)\n",
    "    cx = int(M['m10']/M['m00'])\n",
    "    cy = int(M['m01']/M['m00'])\n",
    "    \n",
    "    cv2.circle(image,(cx,cy),10,(0,0,255),-1)\n",
    "    return image"
   ]
  },
  {
   "cell_type": "code",
   "execution_count": 12,
   "metadata": {},
   "outputs": [],
   "source": [
    "image =cv2.imread('shape.jpg')\n",
    "image_original = image.copy()"
   ]
  },
  {
   "cell_type": "code",
   "execution_count": 13,
   "metadata": {},
   "outputs": [],
   "source": [
    "for cnt in contours:\n",
    "    draw_center_label(image,cnt)"
   ]
  },
  {
   "cell_type": "code",
   "execution_count": 15,
   "metadata": {},
   "outputs": [],
   "source": [
    "cv2.imshow('center dots',image)\n",
    "cv2.waitKey()\n",
    "cv2.destroyAllWindows()"
   ]
  },
  {
   "cell_type": "code",
   "execution_count": 16,
   "metadata": {},
   "outputs": [],
   "source": [
    "counters_left_to_right = sorted(contours, key = get_center_x, reverse = True)"
   ]
  },
  {
   "cell_type": "code",
   "execution_count": 18,
   "metadata": {},
   "outputs": [],
   "source": [
    "for i,cnt in enumerate(contours):\n",
    "    cv2.drawContours(image,[cnt],-1,(0,0,255),3)\n",
    "    M = cv2.moments(cnt)\n",
    "    cx = int(M['m10']/M['m00'])\n",
    "    cy = int(M['m01']/M['m00'])\n",
    "    cv2.putText(image,str(i+1),(cx,cy),cv2.FONT_HERSHEY_COMPLEX,2,(0,0,255),2)\n",
    "    cv2.imshow('left to right',image)\n",
    "    cv2.waitKey(0)\n",
    "    x,y,w,h = cv2.boundingRect(cnt)\n",
    "    \n",
    "    image_crop = image[y:y+h,x:x+w]\n",
    "    image_name = \"imagecrap\"+str(i)+\".jpg\"\n",
    "    cv2.imwrite(image_name,image_crop)"
   ]
  },
  {
   "cell_type": "markdown",
   "metadata": {},
   "source": [
    "### approxiamation"
   ]
  },
  {
   "cell_type": "code",
   "execution_count": 1,
   "metadata": {},
   "outputs": [],
   "source": [
    "import cv2\n",
    "import numpy as np"
   ]
  },
  {
   "cell_type": "code",
   "execution_count": 2,
   "metadata": {},
   "outputs": [],
   "source": [
    "image = cv2.imread('shape1.jpg')\n",
    "image_original = image.copy()"
   ]
  },
  {
   "cell_type": "code",
   "execution_count": 3,
   "metadata": {},
   "outputs": [],
   "source": [
    "image_grey = cv2.cvtColor(image,cv2.COLOR_BGR2GRAY)\n",
    "image_edge = cv2.Canny(image_grey,50,200)\n",
    "_, contours, _ = cv2.findContours(image_edge.copy(),cv2.RETR_LIST,cv2.CHAIN_APPROX_NONE)"
   ]
  },
  {
   "cell_type": "code",
   "execution_count": 4,
   "metadata": {},
   "outputs": [],
   "source": [
    "for c in contours:\n",
    "    x,y,w,h = cv2.boundingRect(c)\n",
    "    cv2.rectangle(image_original,(x,y),(x+w,y+h),(0,0,255),2)\n",
    "    cv2.imshow('bound',image_original)\n",
    "    cv2.waitKey()\n",
    "    \n",
    "cv2.waitKey()\n",
    " \n",
    "for c in contours:\n",
    "    accuracy = 0.01* cv2.arcLength(c,True)\n",
    "    approx = cv2.approxPolyDP(c,accuracy, True)\n",
    "    cv2.drawContours(image,[approx],0,(0,255,0),2)\n",
    "    cv2.imshow('approx',image)\n",
    "    cv2.waitKey()\n",
    "\n",
    "cv2.destroyAllWindows()\n"
   ]
  },
  {
   "cell_type": "markdown",
   "metadata": {},
   "source": [
    "### shape match"
   ]
  },
  {
   "cell_type": "code",
   "execution_count": 1,
   "metadata": {},
   "outputs": [],
   "source": [
    "import cv2\n",
    "import numpy as np"
   ]
  },
  {
   "cell_type": "code",
   "execution_count": 2,
   "metadata": {},
   "outputs": [],
   "source": [
    "template = cv2.imread('imagecrap1.jpg')\n",
    "template_grey = cv2.cvtColor(template,cv2.COLOR_BGR2GRAY)\n",
    "target = cv2.imread('shape.jpg')\n",
    "target_grey = cv2.cvtColor(target,cv2.COLOR_BGR2GRAY)"
   ]
  },
  {
   "cell_type": "code",
   "execution_count": 3,
   "metadata": {},
   "outputs": [],
   "source": [
    "ret, threshold_temp = cv2.threshold(template_grey,127,255,0)\n",
    "ret, threshold_target = cv2.threshold(target_grey, 127,255,0)"
   ]
  },
  {
   "cell_type": "code",
   "execution_count": 4,
   "metadata": {},
   "outputs": [],
   "source": [
    "_,contours_temp,_ = cv2.findContours(threshold_temp,cv2.RETR_CCOMP,cv2.CHAIN_APPROX_SIMPLE)\n",
    "_,contours_target,_ = cv2.findContours(threshold_target,cv2.RETR_CCOMP,cv2.CHAIN_APPROX_SIMPLE)"
   ]
  },
  {
   "cell_type": "code",
   "execution_count": 19,
   "metadata": {},
   "outputs": [],
   "source": [
    "contour_match = sorted(contours_temp,key = cv2.contourArea,reverse = True)[0]\n",
    "\n",
    "cv2.drawContours(template,[contour_match],0,[255,0,0],2)\n",
    "cv2.imshow('test',template)\n",
    "\n",
    "cv2.waitKey()\n",
    "cv2.destroyAllWindows()"
   ]
  },
  {
   "cell_type": "code",
   "execution_count": 20,
   "metadata": {},
   "outputs": [
    {
     "name": "stdout",
     "output_type": "stream",
     "text": [
      "0.07354106828716106\n",
      "0.013083300070283244\n",
      "0.09907948266423805\n"
     ]
    }
   ],
   "source": [
    "contour_get = []\n",
    "for c in contours_target:\n",
    "    match_score = cv2.matchShapes(contour_match,c,1,0.0)\n",
    "    if match_score<0.15:\n",
    "        contour_get.append(c)\n",
    "        print(match_score)\n",
    "\n",
    "cv2.drawContours(target,contour_get,-1,[255,0,0],2)\n",
    "cv2.imshow('output',target)\n",
    "cv2.waitKey()\n",
    "cv2.destroyAllWindows()\n",
    "    \n"
   ]
  },
  {
   "cell_type": "markdown",
   "metadata": {},
   "source": [
    "### line-detect"
   ]
  },
  {
   "cell_type": "code",
   "execution_count": 1,
   "metadata": {},
   "outputs": [],
   "source": [
    "import cv2\n",
    "import numpy as np"
   ]
  },
  {
   "cell_type": "code",
   "execution_count": 2,
   "metadata": {},
   "outputs": [],
   "source": [
    "image = cv2.imread('lines.jpg')\n",
    "gray = cv2.cvtColor(image,cv2.COLOR_BGR2GRAY)\n",
    "canny = cv2.Canny(gray,100,170)"
   ]
  },
  {
   "cell_type": "code",
   "execution_count": 3,
   "metadata": {},
   "outputs": [],
   "source": [
    "lines = cv2.HoughLines(canny,1,np.pi/180,200)"
   ]
  },
  {
   "cell_type": "code",
   "execution_count": 22,
   "metadata": {},
   "outputs": [
    {
     "data": {
      "text/plain": [
       "array([[512.       ,   1.5707964],\n",
       "       [138.       ,   1.5707964],\n",
       "       [386.       ,   1.5707964],\n",
       "       [142.       ,   1.5707964],\n",
       "       [390.       ,   1.5707964],\n",
       "       [447.       ,   1.5707964],\n",
       "       [263.       ,   1.5707964],\n",
       "       [200.       ,   1.5707964],\n",
       "       [ 81.       ,   1.5707964],\n",
       "       [325.       ,   1.5707964],\n",
       "       [260.       ,   1.5707964],\n",
       "       [ 76.       ,   1.5707964],\n",
       "       [509.       ,   1.5707964],\n",
       "       [451.       ,   1.5707964],\n",
       "       [203.       ,   1.5707964],\n",
       "       [329.       ,   1.5707964],\n",
       "       [ 15.       ,   1.5707964],\n",
       "       [152.       ,   0.       ],\n",
       "       [212.       ,   0.       ],\n",
       "       [580.       ,   0.       ],\n",
       "       [699.       ,   0.       ],\n",
       "       [761.       ,   0.       ],\n",
       "       [332.       ,   0.       ],\n",
       "       [516.       ,   0.       ],\n",
       "       [702.       ,   0.       ],\n",
       "       [ 87.       ,   0.       ],\n",
       "       [ 90.       ,   0.       ],\n",
       "       [271.       ,   0.       ],\n",
       "       [639.       ,   0.       ],\n",
       "       [209.       ,   0.       ],\n",
       "       [519.       ,   0.       ],\n",
       "       [577.       ,   0.       ],\n",
       "       [ 26.       ,   0.       ],\n",
       "       [335.       ,   0.       ],\n",
       "       [394.       ,   0.       ],\n",
       "       [454.       ,   0.       ],\n",
       "       [764.       ,   0.       ],\n",
       "       [822.       ,   0.       ],\n",
       "       [149.       ,   0.       ],\n",
       "       [274.       ,   0.       ],\n",
       "       [457.       ,   0.       ],\n",
       "       [642.       ,   0.       ],\n",
       "       [825.       ,   0.       ],\n",
       "       [ 30.       ,   0.       ],\n",
       "       [398.       ,   0.       ]], dtype=float32)"
      ]
     },
     "execution_count": 22,
     "metadata": {},
     "output_type": "execute_result"
    }
   ],
   "source": [
    "lines[:,0,:]"
   ]
  },
  {
   "cell_type": "code",
   "execution_count": 15,
   "metadata": {},
   "outputs": [],
   "source": [
    "for line in lines:\n",
    "    rho = line[0][0]\n",
    "    theta = line[0][1]\n",
    "    a = np.cos(theta)\n",
    "    b = np.sin(theta)\n",
    "    x0 = a*rho\n",
    "    y0 = b*rho\n",
    "    x1 = int(x0 + 1000*(-b))\n",
    "    y1 = int(y0 + 1000*(a))\n",
    "    x2 = int(x0 - 1000*(-b))\n",
    "    y2 = int(y0 - 1000*(a))\n",
    "    \n",
    "    cv2.line(image, (x1,y1),(x2,y2),(0,0,255),2)\n",
    "    \n",
    "cv2.imshow('line',image)\n",
    "cv2.waitKey()\n",
    "cv2.destroyAllWindows()"
   ]
  },
  {
   "cell_type": "code",
   "execution_count": 28,
   "metadata": {},
   "outputs": [],
   "source": [
    "image = cv2.imread('lines.jpg')\n",
    "gray = cv2.cvtColor(image,cv2.COLOR_BGR2GRAY)\n",
    "canny = cv2.Canny(gray,100,170)\n",
    "lines = cv2.HoughLinesP(canny, 1, np.pi/180,100,100,10)\n",
    "for x1,y1,x2,y2 in lines[:,0,:]:\n",
    "    cv2.line(image,(x1,y1),(x2,y2),(0,0,255),2)\n",
    "    \n",
    "cv2.imshow('p line',image)\n",
    "cv2.waitKey()\n",
    "cv2.destroyAllWindows()"
   ]
  },
  {
   "cell_type": "markdown",
   "metadata": {},
   "source": [
    "### Blob detection"
   ]
  },
  {
   "cell_type": "code",
   "execution_count": 34,
   "metadata": {},
   "outputs": [],
   "source": [
    "image = cv2.imread('emoji.jpg',cv2.IMREAD_GRAYSCALE)\n",
    "detector = cv2.SimpleBlobDetector_create()\n",
    "keypoints = detector.detect(image)\n",
    "\n",
    "final = cv2.drawKeypoints(image,keypoints,np.array([]),(0,0,255),cv2.DRAW_MATCHES_FLAGS_DRAW_RICH_KEYPOINTS)\n",
    "\n",
    "cv2.imshow('final',final)\n",
    "cv2.waitKey()\n",
    "cv2.destroyAllWindows()"
   ]
  },
  {
   "cell_type": "code",
   "execution_count": null,
   "metadata": {},
   "outputs": [],
   "source": []
  }
 ],
 "metadata": {
  "kernelspec": {
   "display_name": "Python 3",
   "language": "python",
   "name": "python3"
  },
  "language_info": {
   "codemirror_mode": {
    "name": "ipython",
    "version": 3
   },
   "file_extension": ".py",
   "mimetype": "text/x-python",
   "name": "python",
   "nbconvert_exporter": "python",
   "pygments_lexer": "ipython3",
   "version": "3.6.4"
  }
 },
 "nbformat": 4,
 "nbformat_minor": 2
}
