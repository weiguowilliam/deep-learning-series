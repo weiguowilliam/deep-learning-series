{
 "cells": [
  {
   "cell_type": "markdown",
   "metadata": {},
   "source": [
    "### Translation"
   ]
  },
  {
   "cell_type": "code",
   "execution_count": 2,
   "metadata": {},
   "outputs": [],
   "source": [
    "import cv2\n",
    "import numpy as np\n",
    "image = cv2.imread('canyon.jpg')"
   ]
  },
  {
   "cell_type": "code",
   "execution_count": 8,
   "metadata": {},
   "outputs": [],
   "source": [
    "image = cv2.imread('canyon.jpg')\n",
    "height, weight = image.shape[:2]\n",
    "T = np.float32([[1,0,height/4],[0,1,weight/4]])\n",
    "image_trans = cv2.warpAffine(image, T, (weight,height))\n",
    "cv2.imshow('translation',image_trans)\n",
    "cv2.waitKey()\n",
    "cv2.destroyAllWindows()"
   ]
  },
  {
   "cell_type": "markdown",
   "metadata": {},
   "source": [
    "### Rotation"
   ]
  },
  {
   "cell_type": "code",
   "execution_count": 3,
   "metadata": {},
   "outputs": [],
   "source": [
    "image = cv2.imread('canyon.jpg')\n",
    "height, weight = image.shape[:2]\n",
    "T = cv2.getRotationMatrix2D((weight/2,height/2),90,1)\n",
    "image_trans = cv2.warpAffine(image, T, (weight,height))\n",
    "cv2.imshow('translation',image_trans)\n",
    "cv2.waitKey()\n",
    "cv2.destroyAllWindows()"
   ]
  },
  {
   "cell_type": "code",
   "execution_count": 4,
   "metadata": {},
   "outputs": [],
   "source": [
    "image = cv2.imread('canyon.jpg')\n",
    "image_transpose = cv2.transpose(image)\n",
    "cv2.imshow('transpose',image_transpose)\n",
    "cv2.waitKey()\n",
    "cv2.destroyAllWindows()"
   ]
  },
  {
   "cell_type": "markdown",
   "metadata": {},
   "source": [
    "### Resize"
   ]
  },
  {
   "cell_type": "code",
   "execution_count": 8,
   "metadata": {},
   "outputs": [],
   "source": [
    "image = cv2.imread('canyon.jpg')\n",
    "image_resize1 = cv2.resize(image,None, fx=0.1,fy=0.1)\n",
    "cv2.imshow('default(linear)',image_resize1)\n",
    "cv2.waitKey()\n",
    "cv2.destroyAllWindows()"
   ]
  },
  {
   "cell_type": "markdown",
   "metadata": {},
   "source": [
    "### Pyramid"
   ]
  },
  {
   "cell_type": "code",
   "execution_count": 4,
   "metadata": {},
   "outputs": [],
   "source": [
    "image = cv2.imread('canyon.jpg')\n",
    "\n",
    "image_pyrdown = cv2.pyrDown(image)\n",
    "# image_pyrup = cv2.pyrUp(image)\n",
    "cv2.imshow('down',image_pyrdown)\n",
    "# cv2.imshow('up',image_pyrup)\n",
    "cv2.waitKey()\n",
    "cv2.destroyAllWindows()"
   ]
  },
  {
   "cell_type": "code",
   "execution_count": 5,
   "metadata": {},
   "outputs": [],
   "source": [
    "#crop"
   ]
  },
  {
   "cell_type": "code",
   "execution_count": 5,
   "metadata": {},
   "outputs": [],
   "source": [
    "image = cv2.imread('canyon.jpg')\n",
    "\n",
    "height, width = image.shape[:2]\n",
    "int_height, int_width = int(height*.25), int(width*.25)\n",
    "fin_height, fin_width = int(height*.75), int(width*.75)\n",
    "image_crop = image[int_height:fin_height, int_width:fin_width]\n",
    "cv2.imshow('crop',image_crop)\n",
    "cv2.imshow('original',image)\n",
    "cv2.waitKey()\n",
    "cv2.destroyAllWindows()"
   ]
  },
  {
   "cell_type": "markdown",
   "metadata": {},
   "source": [
    "### add/subtract"
   ]
  },
  {
   "cell_type": "code",
   "execution_count": 7,
   "metadata": {},
   "outputs": [],
   "source": [
    "image = cv2.imread('canyon.jpg')\n",
    "ad = np.ones(image.shape,dtype='uint8')*75\n",
    "image_add = cv2.subtract(image,ad)\n",
    "cv2.imshow('add',image_add)\n",
    "cv2.waitKey()\n",
    "cv2.destroyAllWindows()"
   ]
  },
  {
   "cell_type": "code",
   "execution_count": 29,
   "metadata": {},
   "outputs": [],
   "source": [
    "square = cv2.rectangle(np.zeros((500,500),dtype='uint8'),(50,50),(250,250),255,-2)\n",
    "ellipse = np.zeros((500,500),'uint8')\n",
    "cv2.ellipse(ellipse,(200,200),(100,50),0,0,180,255,-1)\n",
    "cv2.imshow('ell',square)\n",
    "cv2.waitKey()\n",
    "cv2.destroyAllWindows()"
   ]
  },
  {
   "cell_type": "markdown",
   "metadata": {},
   "source": [
    "### bitwise"
   ]
  },
  {
   "cell_type": "code",
   "execution_count": 31,
   "metadata": {},
   "outputs": [],
   "source": [
    "image_and = cv2.bitwise_and(square,ellipse)\n",
    "image_or = cv2.bitwise_or(square,ellipse)\n",
    "cv2.imshow('and',image_and)\n",
    "cv2.imshow('or',image_or)\n",
    "cv2.waitKey()\n",
    "cv2.destroyAllWindows()"
   ]
  },
  {
   "cell_type": "markdown",
   "metadata": {},
   "source": [
    "### convolution"
   ]
  },
  {
   "cell_type": "code",
   "execution_count": 39,
   "metadata": {},
   "outputs": [],
   "source": [
    "kernel_3 = np.ones((10,10),'uint8')/100\n",
    "image_con1 = cv2.filter2D(image, -1, kernel_3)\n",
    "cv2.imshow('blur1',image_con1)\n",
    "cv2.imshow('ori',image)\n",
    "cv2.waitKey()\n",
    "cv2.destroyAllWindows()"
   ]
  },
  {
   "cell_type": "code",
   "execution_count": 41,
   "metadata": {},
   "outputs": [],
   "source": [
    "image_denoise = cv2.fastNlMeansDenoisingColored(image,None, 6, 6, 7, 21)\n",
    "cv2.imshow('image_denoise',image_denoise)\n",
    "cv2.waitKey()\n",
    "cv2.destroyAllWindows()"
   ]
  },
  {
   "cell_type": "markdown",
   "metadata": {},
   "source": [
    "### sharpen"
   ]
  },
  {
   "cell_type": "code",
   "execution_count": 47,
   "metadata": {},
   "outputs": [],
   "source": [
    "sharpen_matrix = np.array([[-1,-1,-1],[-1,9,-1],[-1,-1,-1]])\n",
    "image_sharpen = cv2.filter2D(image,-1,sharpen_matrix)\n",
    "cv2.imshow('sharpen',image_sharpen)\n",
    "cv2.waitKey()\n",
    "cv2.destroyAllWindows()"
   ]
  },
  {
   "cell_type": "markdown",
   "metadata": {},
   "source": [
    "### threshold"
   ]
  },
  {
   "cell_type": "code",
   "execution_count": 52,
   "metadata": {
    "scrolled": true
   },
   "outputs": [],
   "source": [
    "image_grey = cv2.imread('canyon.jpg',0)\n",
    "ret,image_thre = cv2.threshold(image_grey,177,190,cv2.THRESH_BINARY)\n",
    "cv2.imshow('thre',image_thre)\n",
    "cv2.waitKey()\n",
    "cv2.destroyAllWindows()"
   ]
  },
  {
   "cell_type": "markdown",
   "metadata": {},
   "source": [
    "### dilation"
   ]
  },
  {
   "cell_type": "code",
   "execution_count": 56,
   "metadata": {},
   "outputs": [],
   "source": [
    "kernel_dilate = np.ones((5,5),'uint8')\n",
    "image_dilation = cv2.dilate(image,kernel_dilate,iterations = 1)\n",
    "cv2.imshow('image_dilation',image_dilation)\n",
    "cv2.waitKey(0)\n",
    "\n",
    "image_erosion = cv2.erode(image,kernel_dilate,iterations = 1)\n",
    "cv2.imshow('image_erosion',image_erosion)\n",
    "cv2.waitKey(0)\n",
    "\n",
    "image_denoise1 = cv2.dilate(image_erosion,kernel_dilate,iterations = 1)\n",
    "cv2.imshow('open',image_denoise1)\n",
    "\n",
    "cv2.waitKey(0)\n",
    "\n",
    "image_close = cv2.erode(image_dilation,kernel_dilate,iterations = 1)\n",
    "cv2.imshow('close',image_close)\n",
    "\n",
    "cv2.waitKey(0)\n",
    "cv2.destroyAllWindows()"
   ]
  },
  {
   "cell_type": "markdown",
   "metadata": {},
   "source": [
    "### edge detection"
   ]
  },
  {
   "cell_type": "code",
   "execution_count": 60,
   "metadata": {},
   "outputs": [],
   "source": [
    "image_sobe1 = cv2.Sobel(image,cv2.CV_64F,0,1,ksize = 5)\n",
    "cv2.imshow('sobel',image_sobe1)\n",
    "cv2.waitKey(0)\n",
    "\n",
    "image_sobe2 = cv2.Sobel(image,cv2.CV_64F,1,0,ksize = 5)\n",
    "cv2.imshow('sobe2',image_sobe2)\n",
    "cv2.waitKey(0)\n",
    "\n",
    "cv2.destroyAllWindows()"
   ]
  },
  {
   "cell_type": "markdown",
   "metadata": {},
   "source": [
    "### Perspective"
   ]
  },
  {
   "cell_type": "code",
   "execution_count": 6,
   "metadata": {},
   "outputs": [],
   "source": [
    "pointsA = np.float32([[79,49],[179,70],[89,259],[189,280]])\n",
    "pointsB = np.float32([[50,50],[150,50],[50,250],[150,250]])\n",
    "M = cv2.getPerspectiveTransform(pointsA, pointsB)\n",
    "image_warp = cv2.warpPerspective(image,M,(100,200))\n",
    "cv2.imshow('warp',image_warp)\n",
    "cv2.waitKey(0)\n",
    "\n",
    "cv2.destroyAllWindows()"
   ]
  },
  {
   "cell_type": "code",
   "execution_count": null,
   "metadata": {},
   "outputs": [],
   "source": []
  }
 ],
 "metadata": {
  "kernelspec": {
   "display_name": "Python 3",
   "language": "python",
   "name": "python3"
  },
  "language_info": {
   "codemirror_mode": {
    "name": "ipython",
    "version": 3
   },
   "file_extension": ".py",
   "mimetype": "text/x-python",
   "name": "python",
   "nbconvert_exporter": "python",
   "pygments_lexer": "ipython3",
   "version": "3.6.4"
  }
 },
 "nbformat": 4,
 "nbformat_minor": 2
}
