{
 "cells": [
  {
   "cell_type": "code",
   "execution_count": 1,
   "metadata": {},
   "outputs": [],
   "source": [
    "import cv2\n",
    "import numpy as np"
   ]
  },
  {
   "cell_type": "code",
   "execution_count": 4,
   "metadata": {},
   "outputs": [],
   "source": [
    "\n",
    "\n",
    "def sift_detector(new_image,template):\n",
    "    image1 = cv2.cvtColor(new_image,cv2.COLOR_BGR2GRAY)\n",
    "    image2 = template\n",
    "    \n",
    "    sift = cv2.xfeatures2d.SIFT_create()\n",
    "    key1, des1 = sift.detectAndCompute(image1,None)\n",
    "    key2, des2 = sift.detectAndCompute(image2,None)\n",
    "    \n",
    "    FLANN_INDEX_KDTREE = 0\n",
    "    index_params = dict(algorithm = FLANN_INDEX_KDTREE, trees = 5)\n",
    "    search_params = dict(checks=500)   # or pass empty dictionary\n",
    "    \n",
    "    flann = cv2.FlannBasedMatcher(index_params, search_params)\n",
    "    \n",
    "    matches = flann.knnMatch(des1, des2, k = 2)\n",
    "    \n",
    "    good_matches = []\n",
    "    \n",
    "    for m,n in matches:\n",
    "        if m.distance < 0.7 * n.distance:\n",
    "            good_matches.append(m)\n",
    "            \n",
    "    return len(good_matches)\n"
   ]
  },
  {
   "cell_type": "code",
   "execution_count": 5,
   "metadata": {},
   "outputs": [],
   "source": [
    "cap = cv2.VideoCapture(0)\n",
    "cap.open(0)\n",
    "image_temp = cv2.imread('phone.jpg',0)\n",
    "\n",
    "while True:\n",
    "    ret,frame = cap.read()\n",
    "    \n",
    "    height, width = frame.shape[:2]\n",
    "    \n",
    "    top_left_x = int(width / 3)\n",
    "    top_left_y = int((height / 2) + (height / 4))\n",
    "    bottom_right_x = int((width / 3) * 2)\n",
    "    bottom_right_y = int((height / 2) - (height / 4))\n",
    "    \n",
    "    # Draw rectangular window for our region of interest   \n",
    "    cv2.rectangle(frame, (top_left_x,top_left_y), (bottom_right_x,bottom_right_y), 255, 3)\n",
    "    \n",
    "    # Crop window of observation we defined above\n",
    "    cropped = frame[bottom_right_y:top_left_y , top_left_x:bottom_right_x]\n",
    "    \n",
    "#     cv2.imshow('test',cropped)\n",
    "#     cv2.waitKey()\n",
    "#     cv2.destroyAllWindows()\n",
    "    \n",
    "    frame = cv2.flip(frame, 1)\n",
    "    \n",
    "    matches = sift_detector(cropped, image_temp)\n",
    "    \n",
    "#     cv2.putText(frame,str(matches))\n",
    "    cv2.putText(frame,str(matches),(450,450), cv2.FONT_HERSHEY_COMPLEX, 2,(0,255,0),1)\n",
    "    \n",
    "    if matches > 10:\n",
    "        cv2.rectangle(frame,(int(top_left_x),int(top_left_y)),(int(bot_right_x),int(bot_right_y)),(255,0,0),3)\n",
    "        cv2.putText(frame,'Object Found')\n",
    "    \n",
    "    cv2.imshow('detect',frame)\n",
    "    if cv2.waitKey(1) == 27:\n",
    "        break\n",
    "    \n",
    "cap.release()\n",
    "cv2.destroyAllWindows()"
   ]
  },
  {
   "cell_type": "code",
   "execution_count": null,
   "metadata": {},
   "outputs": [],
   "source": []
  }
 ],
 "metadata": {
  "kernelspec": {
   "display_name": "Python 3",
   "language": "python",
   "name": "python3"
  },
  "language_info": {
   "codemirror_mode": {
    "name": "ipython",
    "version": 3
   },
   "file_extension": ".py",
   "mimetype": "text/x-python",
   "name": "python",
   "nbconvert_exporter": "python",
   "pygments_lexer": "ipython3",
   "version": "3.6.4"
  }
 },
 "nbformat": 4,
 "nbformat_minor": 2
}
