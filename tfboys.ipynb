{
 "cells": [
  {
   "cell_type": "code",
   "execution_count": 2,
   "metadata": {},
   "outputs": [],
   "source": [
    "import tensorflow as tf\n",
    "import numpy as np"
   ]
  },
  {
   "cell_type": "code",
   "execution_count": 4,
   "metadata": {},
   "outputs": [],
   "source": [
    "a = tf.placeholder(tf.float32,shape=(2,2))"
   ]
  },
  {
   "cell_type": "code",
   "execution_count": 8,
   "metadata": {},
   "outputs": [],
   "source": [
    "b = tf.placeholder(tf.float32,shape=(2,2))"
   ]
  },
  {
   "cell_type": "code",
   "execution_count": 9,
   "metadata": {},
   "outputs": [],
   "source": [
    "mul = tf.matmul(a,b)"
   ]
  },
  {
   "cell_type": "code",
   "execution_count": 12,
   "metadata": {},
   "outputs": [
    {
     "name": "stdout",
     "output_type": "stream",
     "text": [
      "[[0.06972897 0.58849835]\n",
      " [0.39159548 0.8666266 ]]\n"
     ]
    }
   ],
   "source": [
    "with tf.Session() as session:\n",
    "    output = session.run(mul,feed_dict={a:np.random.rand(2,2),b:np.random.rand(2,2)})\n",
    "    print(output)"
   ]
  },
  {
   "cell_type": "code",
   "execution_count": 13,
   "metadata": {},
   "outputs": [],
   "source": [
    "X = tf.random_normal((2,2))"
   ]
  },
  {
   "cell_type": "code",
   "execution_count": 15,
   "metadata": {},
   "outputs": [],
   "source": [
    "init = tf.global_variables_initializer()"
   ]
  },
  {
   "cell_type": "code",
   "execution_count": 16,
   "metadata": {},
   "outputs": [
    {
     "name": "stdout",
     "output_type": "stream",
     "text": [
      "[[-0.10892873 -1.317373  ]\n",
      " [ 0.26831132  1.3587077 ]]\n"
     ]
    }
   ],
   "source": [
    "with tf.Session() as session:\n",
    "    session.run(init)\n",
    "    print(X.eval())"
   ]
  },
  {
   "cell_type": "code",
   "execution_count": 22,
   "metadata": {},
   "outputs": [],
   "source": [
    "u = tf.Variable(20.0)"
   ]
  },
  {
   "cell_type": "code",
   "execution_count": 23,
   "metadata": {},
   "outputs": [],
   "source": [
    "cost = u**2 + u - 1"
   ]
  },
  {
   "cell_type": "code",
   "execution_count": 24,
   "metadata": {},
   "outputs": [],
   "source": [
    "opt = tf.train.GradientDescentOptimizer(0.3).minimize(cost)"
   ]
  },
  {
   "cell_type": "code",
   "execution_count": 25,
   "metadata": {},
   "outputs": [],
   "source": [
    "init = tf.global_variables_initializer()"
   ]
  },
  {
   "cell_type": "code",
   "execution_count": 27,
   "metadata": {},
   "outputs": [
    {
     "name": "stdout",
     "output_type": "stream",
     "text": [
      "7.7\n",
      "2.7799997\n",
      "0.8119998\n",
      "0.024799883\n",
      "-0.29008007\n"
     ]
    }
   ],
   "source": [
    "with tf.Session() as sess:\n",
    "    sess.run(init)\n",
    "    for i in range(5):\n",
    "        sess.run(opt)\n",
    "        print(u.eval())"
   ]
  },
  {
   "cell_type": "markdown",
   "metadata": {},
   "source": [
    "### nn"
   ]
  },
  {
   "cell_type": "code",
   "execution_count": 38,
   "metadata": {},
   "outputs": [],
   "source": [
    "import numpy as np\n",
    "import pandas as pd\n",
    "import tensorflow as tf\n",
    "import matplotlib.pyplot as plt\n",
    "from sklearn.decomposition import PCA\n",
    "from sklearn.linear_model import LogisticRegression"
   ]
  },
  {
   "cell_type": "code",
   "execution_count": 29,
   "metadata": {},
   "outputs": [],
   "source": [
    "def get_transformed_digit():\n",
    "    #import\n",
    "    dt = pd.read_csv('digit.csv').values.astype(np.float32)\n",
    "    np.random.shuffle(dt)\n",
    "    X = dt[:,1:]\n",
    "    Y = dt[:,0]\n",
    "    \n",
    "    #pca\n",
    "    pca = PCA(n_components=100)\n",
    "    Z = pca.fit_transform(X)\n",
    "    exp_sum = np.sum(pca.explained_variance_ratio_)\n",
    "    \n",
    "    #normalize\n",
    "    z_mean = np.mean(Z,axis=0)\n",
    "    z_std = np.std(Z, axis = 0)\n",
    "    Z_normalized = (Z-z_mean)/z_std\n",
    "    \n",
    "    #split\n",
    "    X_train = Z_normalized[:-300]\n",
    "    Y_train = Y[:-300]\n",
    "    X_test = Z_normalized[-300:]\n",
    "    Y_test = Y[-300:]\n",
    "    \n",
    "    #return\n",
    "    return X_train, Y_train, X_test, Y_test"
   ]
  },
  {
   "cell_type": "code",
   "execution_count": 30,
   "metadata": {},
   "outputs": [],
   "source": [
    "def y2indicator(y_vector):\n",
    "    \"\"\"\n",
    "    transform the vector y to matrix y\n",
    "    \"\"\"\n",
    "    l = len(y_vector)\n",
    "    indi = np.zeros((l,10))\n",
    "    for i in range(l):\n",
    "        indi[i,int(y_vector[i])] = 1\n",
    "    return indi"
   ]
  },
  {
   "cell_type": "code",
   "execution_count": 31,
   "metadata": {},
   "outputs": [],
   "source": [
    "def error_rate(p,y):\n",
    "    return np.mean(p!=y)"
   ]
  },
  {
   "cell_type": "code",
   "execution_count": 46,
   "metadata": {},
   "outputs": [],
   "source": [
    "def tf_nn():\n",
    "    X_train, Y_train, X_test, Y_test = get_transformed_digit()\n",
    "    lr = 4*(1e-5)\n",
    "    reg = 1e-2\n",
    "    Y_train_matrix = y2indicator(Y_train)\n",
    "    Y_test_matrix = y2indicator(Y_test)\n",
    "    \n",
    "    N,D = X_train.shape\n",
    "    batch_size = 500\n",
    "    batch_num = N // batch_size\n",
    "    \n",
    "    M = 100\n",
    "    K = 10\n",
    "    W1_init = np.random.rand(D,M)/np.sqrt(D)\n",
    "    b1_init = np.random.rand(M)\n",
    "    W2_init = np.random.rand(M,K)/np.sqrt(M)\n",
    "    b2_init = np.random.rand(K)\n",
    "    \n",
    "    X = tf.placeholder(dtype=tf.float32, shape=(None, D))\n",
    "    T = tf.placeholder(dtype=tf.float32, shape=(None, K))\n",
    "    W1 = tf.Variable(W1_init.astype(np.float32))\n",
    "    b1 = tf.Variable(b1_init.astype(np.float32))\n",
    "    W2 = tf.Variable(W2_init.astype(np.float32))\n",
    "    b2 = tf.Variable(b2_init.astype(np.float32))\n",
    "    \n",
    "    z = tf.nn.relu(tf.matmul(X,W1) + b1)\n",
    "    a = tf.matmul(z,W2) + b2\n",
    "    \n",
    "    cost = tf.reduce_sum(tf.nn.softmax_cross_entropy_with_logits(labels=T, logits=a))\n",
    "    opt = tf.train.RMSPropOptimizer(learning_rate=0.00004,decay=0.9,momentum=0.999).minimize(cost)\n",
    "    \n",
    "    predict = tf.argmax(a,1)\n",
    "    \n",
    "    init = tf.global_variables_initializer()\n",
    "    \n",
    "    with tf.Session() as s:\n",
    "        s.run(init)\n",
    "        for i in range(20):\n",
    "            s.run(opt, feed_dict={X: X_train,T:Y_train_matrix})\n",
    "            pred = s.run(predict,feed_dict={X: X_test})\n",
    "            print(error_rate(Y_test,pred))\n",
    "    \n",
    "    \n",
    "    "
   ]
  },
  {
   "cell_type": "code",
   "execution_count": 47,
   "metadata": {},
   "outputs": [
    {
     "name": "stdout",
     "output_type": "stream",
     "text": [
      "0.8666666666666667\n",
      "0.8633333333333333\n",
      "0.8633333333333333\n",
      "0.86\n",
      "0.86\n",
      "0.85\n",
      "0.8466666666666667\n",
      "0.83\n",
      "0.8166666666666667\n",
      "0.7766666666666666\n",
      "0.76\n",
      "0.7666666666666667\n",
      "0.78\n",
      "0.7766666666666666\n",
      "0.7766666666666666\n",
      "0.77\n",
      "0.7433333333333333\n",
      "0.7333333333333333\n",
      "0.7233333333333334\n",
      "0.7233333333333334\n"
     ]
    }
   ],
   "source": [
    "tf_nn()"
   ]
  },
  {
   "cell_type": "code",
   "execution_count": null,
   "metadata": {},
   "outputs": [],
   "source": []
  }
 ],
 "metadata": {
  "kernelspec": {
   "display_name": "Python 3",
   "language": "python",
   "name": "python3"
  },
  "language_info": {
   "codemirror_mode": {
    "name": "ipython",
    "version": 3
   },
   "file_extension": ".py",
   "mimetype": "text/x-python",
   "name": "python",
   "nbconvert_exporter": "python",
   "pygments_lexer": "ipython3",
   "version": "3.5.5"
  }
 },
 "nbformat": 4,
 "nbformat_minor": 2
}
