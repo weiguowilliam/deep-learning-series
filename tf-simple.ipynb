{
 "cells": [
  {
   "cell_type": "code",
   "execution_count": 75,
   "metadata": {},
   "outputs": [],
   "source": [
    "import numpy as np\n",
    "import tensorflow as tf\n",
    "import matplotlib.pyplot as plt"
   ]
  },
  {
   "cell_type": "markdown",
   "metadata": {},
   "source": [
    "### define the sample size"
   ]
  },
  {
   "cell_type": "code",
   "execution_count": 124,
   "metadata": {},
   "outputs": [],
   "source": [
    "#define the sample size\n",
    "N = 500\n",
    "D = 2\n",
    "M = 4\n",
    "K = 3"
   ]
  },
  {
   "cell_type": "code",
   "execution_count": 125,
   "metadata": {},
   "outputs": [],
   "source": [
    "X1 = np.random.rand(N,D) + np.array([2,0])\n",
    "X2 = np.random.rand(N,D) + np.array([2,-2])\n",
    "X3 = np.random.rand(N,D) + np.array([-2,2])"
   ]
  },
  {
   "cell_type": "code",
   "execution_count": 126,
   "metadata": {},
   "outputs": [],
   "source": [
    "# X = np.vstack([X1,X2,X3])\n",
    "X = np.vstack((X1,X2,X3))"
   ]
  },
  {
   "cell_type": "code",
   "execution_count": 127,
   "metadata": {},
   "outputs": [],
   "source": [
    "Y = np.array([0]*N+[1]*N+[2]*N)"
   ]
  },
  {
   "cell_type": "code",
   "execution_count": 128,
   "metadata": {},
   "outputs": [],
   "source": [
    "T = np.zeros((X.shape[0],K))\n",
    "for i in range(K):\n",
    "    T[N*i:N*(i+1),i]  = 1"
   ]
  },
  {
   "cell_type": "code",
   "execution_count": 129,
   "metadata": {},
   "outputs": [
    {
     "data": {
      "text/plain": [
       "<matplotlib.collections.PathCollection at 0x29299e3cef0>"
      ]
     },
     "execution_count": 129,
     "metadata": {},
     "output_type": "execute_result"
    },
    {
     "data": {
      "image/png": "[encoded data removed]",
      "text/plain": [
       "<Figure size 432x288 with 1 Axes>"
      ]
     },
     "metadata": {},
     "output_type": "display_data"
    }
   ],
   "source": [
    "plt.scatter(X[:,0],X[:,1],c = Y)"
   ]
  },
  {
   "cell_type": "markdown",
   "metadata": {},
   "source": [
    "### prepare for tf"
   ]
  },
  {
   "cell_type": "code",
   "execution_count": 130,
   "metadata": {},
   "outputs": [],
   "source": [
    "def my_W(shape):\n",
    "    return tf.Variable(tf.random_normal(shape,stddev = 0.1))"
   ]
  },
  {
   "cell_type": "code",
   "execution_count": 131,
   "metadata": {},
   "outputs": [],
   "source": [
    "def my_forward(x,w1,b1,w2,b2):\n",
    "    \"\"\"\n",
    "    w1,w2 is to hidden, w2,b2 is to output\n",
    "    \"\"\"\n",
    "    z = tf.sigmoid(tf.matmul(x,w1)+b1)\n",
    "    return tf.matmul(z,w2)+ b2"
   ]
  },
  {
   "cell_type": "code",
   "execution_count": 132,
   "metadata": {},
   "outputs": [],
   "source": [
    "W1 = my_W([D,M])\n",
    "b1 = my_W([M])\n",
    "W2 = my_W([M,K])\n",
    "b2 = my_W([K])"
   ]
  },
  {
   "cell_type": "code",
   "execution_count": 133,
   "metadata": {},
   "outputs": [],
   "source": [
    "tx = tf.placeholder(tf.float32,shape=[None,D])\n",
    "ty = tf.placeholder(tf.float32,shape=[None,K])"
   ]
  },
  {
   "cell_type": "code",
   "execution_count": 134,
   "metadata": {},
   "outputs": [],
   "source": [
    "f = my_forward(tx,W1,b1,W2,b2)"
   ]
  },
  {
   "cell_type": "code",
   "execution_count": 135,
   "metadata": {},
   "outputs": [],
   "source": [
    "entrophy = tf.nn.softmax_cross_entropy_with_logits_v2(labels = ty, logits= f)\n",
    "cost = tf.reduce_mean(entrophy)"
   ]
  },
  {
   "cell_type": "code",
   "execution_count": 136,
   "metadata": {},
   "outputs": [],
   "source": [
    "pre = tf.argmax(f,axis=1)"
   ]
  },
  {
   "cell_type": "code",
   "execution_count": 137,
   "metadata": {},
   "outputs": [],
   "source": [
    "op = tf.train.GradientDescentOptimizer(learning_rate=0.05).minimize(cost)"
   ]
  },
  {
   "cell_type": "markdown",
   "metadata": {},
   "source": [
    "### run the sess"
   ]
  },
  {
   "cell_type": "code",
   "execution_count": 138,
   "metadata": {},
   "outputs": [],
   "source": [
    "sess = tf.Session()\n",
    "sess.run(tf.global_variables_initializer())"
   ]
  },
  {
   "cell_type": "code",
   "execution_count": 139,
   "metadata": {},
   "outputs": [
    {
     "name": "stdout",
     "output_type": "stream",
     "text": [
      "accuracy is: 0.3333333333333333\n",
      "accuracy is: 0.688\n",
      "accuracy is: 0.6666666666666666\n",
      "accuracy is: 0.6666666666666666\n",
      "accuracy is: 0.7386666666666667\n",
      "accuracy is: 0.8966666666666666\n",
      "accuracy is: 0.9993333333333333\n",
      "accuracy is: 1.0\n",
      "accuracy is: 1.0\n",
      "accuracy is: 1.0\n"
     ]
    }
   ],
   "source": [
    "for i in range(1000):\n",
    "    sess.run(op,feed_dict={tx:X,ty:T})\n",
    "    p = sess.run(pre ,feed_dict={tx:X,ty:T})\n",
    "    if i % 100 == 0:\n",
    "        print(\"accuracy is: \"+str(np.mean(p==Y)))"
   ]
  },
  {
   "cell_type": "code",
   "execution_count": null,
   "metadata": {},
   "outputs": [],
   "source": []
  }
 ],
 "metadata": {
  "kernelspec": {
   "display_name": "Python 3",
   "language": "python",
   "name": "python3"
  },
  "language_info": {
   "codemirror_mode": {
    "name": "ipython",
    "version": 3
   },
   "file_extension": ".py",
   "mimetype": "text/x-python",
   "name": "python",
   "nbconvert_exporter": "python",
   "pygments_lexer": "ipython3",
   "version": "3.5.5"
  }
 },
 "nbformat": 4,
 "nbformat_minor": 2
}
