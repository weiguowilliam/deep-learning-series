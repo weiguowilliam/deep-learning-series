{
 "cells": [
  {
   "cell_type": "code",
   "execution_count": 91,
   "metadata": {},
   "outputs": [],
   "source": [
    "import tensorflow as tf\n",
    "import numpy as np\n",
    "import matplotlib.pyplot as plt"
   ]
  },
  {
   "cell_type": "code",
   "execution_count": 92,
   "metadata": {},
   "outputs": [],
   "source": [
    "#hyper params\n",
    "num_epi = 100\n",
    "total_series_length = 10000\n",
    "truncated_bp_length = 15\n",
    "state_size = 4\n",
    "num_class = 2\n",
    "echo_step = 3\n",
    "batch_size = 5\n",
    "batch_num = total_series_length //truncated_bp_length // batch_size"
   ]
  },
  {
   "cell_type": "code",
   "execution_count": 93,
   "metadata": {},
   "outputs": [],
   "source": [
    "def get_data():\n",
    "    x = np.random.choice(2,total_series_length)\n",
    "    y = np.roll(x, echo_step)\n",
    "    y[0:echo_step] = 0\n",
    "    \n",
    "    x = x.reshape((batch_size,-1))\n",
    "    y = y.reshape((batch_size,-1))\n",
    "    \n",
    "    return (x,y)"
   ]
  },
  {
   "cell_type": "code",
   "execution_count": 94,
   "metadata": {},
   "outputs": [],
   "source": [
    "xbatch_placeholder = tf.placeholder(tf.float32,[batch_size,truncated_bp_length],name='xbatch')\n",
    "ybatch_placeholder  = tf.placeholder(tf.int32,[batch_size,truncated_bp_length],name='ybatch')\n",
    "init_state_placeholder = tf.placeholder(tf.float32,[batch_size,state_size],name='initstate')"
   ]
  },
  {
   "cell_type": "code",
   "execution_count": 95,
   "metadata": {},
   "outputs": [
    {
     "data": {
      "text/plain": [
       "<tf.Tensor 'Shape_4:0' shape=(2,) dtype=int32>"
      ]
     },
     "execution_count": 95,
     "metadata": {},
     "output_type": "execute_result"
    }
   ],
   "source": [
    "tf.shape(init_state_placeholder)"
   ]
  },
  {
   "cell_type": "code",
   "execution_count": 96,
   "metadata": {},
   "outputs": [],
   "source": [
    "#wb\n",
    "W1 = tf.Variable(np.random.rand(state_size+1, state_size),dtype=tf.float32)\n",
    "b1 = tf.Variable(np.zeros((1,state_size)),dtype=tf.float32)\n",
    "\n",
    "W2 = tf.Variable(np.random.rand(state_size, num_class),dtype=tf.float32)\n",
    "b2 = tf.Variable(np.zeros((1,num_class)),dtype=tf.float32)"
   ]
  },
  {
   "cell_type": "code",
   "execution_count": 97,
   "metadata": {},
   "outputs": [],
   "source": [
    "#unstack\n",
    "inputs_series = tf.unstack(xbatch_placeholder,axis=1)\n",
    "labels_series = tf.unstack(ybatch_placeholder,axis = 1)"
   ]
  },
  {
   "cell_type": "code",
   "execution_count": 98,
   "metadata": {},
   "outputs": [],
   "source": [
    "current_state = init_state_placeholder\n",
    "state_series = []\n",
    "for current_input in inputs_series:\n",
    "    current_input = tf.reshape(current_input,[batch_size,1])\n",
    "    conca_input = tf.concat([current_input,current_state],1)\n",
    "    \n",
    "    next_state = tf.tanh(tf.matmul(conca_input,W1) + b1)\n",
    "    state_series.append(next_state)\n",
    "    current_state = next_state"
   ]
  },
  {
   "cell_type": "code",
   "execution_count": 99,
   "metadata": {},
   "outputs": [],
   "source": [
    "#cost\n",
    "logits_series = [tf.matmul(current_state, W2)+ b2 for current_state in state_series]\n",
    "prediction_series = [tf.nn.softmax(logit) for logit in logits_series]\n",
    "\n",
    "losses = [tf.nn.sparse_softmax_cross_entropy_with_logits(logits=logit, labels=tf.cast(label,tf.int32)) for logit,label in zip(logits_series,labels_series)]"
   ]
  },
  {
   "cell_type": "code",
   "execution_count": 100,
   "metadata": {},
   "outputs": [],
   "source": [
    "total_cost = tf.reduce_mean(losses)\n",
    "\n",
    "train_op = tf.train.AdagradOptimizer(0.3).minimize(total_cost)"
   ]
  },
  {
   "cell_type": "code",
   "execution_count": 101,
   "metadata": {},
   "outputs": [
    {
     "data": {
      "image/png": "[encoded data removed]",
      "text/plain": [
       "<Figure size 432x288 with 1 Axes>"
      ]
     },
     "metadata": {},
     "output_type": "display_data"
    }
   ],
   "source": [
    "with tf.Session() as s:\n",
    "    s.run(tf.global_variables_initializer())\n",
    "    loss_list = []\n",
    "    \n",
    "    for i in range(num_epi):\n",
    "        x,y = get_data()\n",
    "        \n",
    "#         print(\"episode: \"+str(i))\n",
    "        _current_state = np.zeros((batch_size,state_size))\n",
    "        \n",
    "        for j in range(batch_num):\n",
    "            x_batch = x[:,int(j*truncated_bp_length):int((j+1)*truncated_bp_length)]\n",
    "            y_batch = y[:,int(j*truncated_bp_length):int((j+1)*truncated_bp_length)]\n",
    "            \n",
    "            loss,_,_,_ = s.run(\n",
    "                [total_cost,train_op,current_state,prediction_series],\n",
    "                feed_dict={\n",
    "                    xbatch_placeholder:x_batch,\n",
    "                    ybatch_placeholder:y_batch,\n",
    "                    init_state_placeholder:_current_state\n",
    "                }\n",
    "            )\n",
    "            \n",
    "            loss_list.append(loss)\n",
    "            \n",
    "    plt.plot(loss_list)\n",
    "    plt.show()"
   ]
  },
  {
   "cell_type": "code",
   "execution_count": 104,
   "metadata": {},
   "outputs": [
    {
     "ename": "AttributeError",
     "evalue": "'numpy.ndarray' object has no attribute 'unstack'",
     "output_type": "error",
     "traceback": [
      "\u001b[1;31m---------------------------------------------------------------------------\u001b[0m",
      "\u001b[1;31mAttributeError\u001b[0m                            Traceback (most recent call last)",
      "\u001b[1;32m<ipython-input-104-e31bc7ae8082>\u001b[0m in \u001b[0;36m<module>\u001b[1;34m()\u001b[0m\n\u001b[0;32m      1\u001b[0m \u001b[0ma\u001b[0m \u001b[1;33m=\u001b[0m \u001b[0mnp\u001b[0m\u001b[1;33m.\u001b[0m\u001b[0marray\u001b[0m\u001b[1;33m(\u001b[0m\u001b[1;33m[\u001b[0m\u001b[1;33m[\u001b[0m\u001b[1;36m1\u001b[0m\u001b[1;33m,\u001b[0m\u001b[1;36m2\u001b[0m\u001b[1;33m]\u001b[0m\u001b[1;33m,\u001b[0m\u001b[1;33m[\u001b[0m\u001b[1;36m3\u001b[0m\u001b[1;33m,\u001b[0m\u001b[1;36m4\u001b[0m\u001b[1;33m]\u001b[0m\u001b[1;33m]\u001b[0m\u001b[1;33m)\u001b[0m\u001b[1;33m\u001b[0m\u001b[0m\n\u001b[1;32m----> 2\u001b[1;33m \u001b[0ma\u001b[0m\u001b[1;33m.\u001b[0m\u001b[0munstack\u001b[0m\u001b[1;33m(\u001b[0m\u001b[0maxis\u001b[0m\u001b[1;33m=\u001b[0m\u001b[1;36m0\u001b[0m\u001b[1;33m)\u001b[0m\u001b[1;33m\u001b[0m\u001b[0m\n\u001b[0m",
      "\u001b[1;31mAttributeError\u001b[0m: 'numpy.ndarray' object has no attribute 'unstack'"
     ]
    }
   ],
   "source": [
    "a = np.array([[1,2],[3,4]])\n",
    "a.unstack(axis=0)"
   ]
  },
  {
   "cell_type": "code",
   "execution_count": null,
   "metadata": {},
   "outputs": [],
   "source": []
  }
 ],
 "metadata": {
  "kernelspec": {
   "display_name": "Python [default]",
   "language": "python",
   "name": "python3"
  },
  "language_info": {
   "codemirror_mode": {
    "name": "ipython",
    "version": 3
   },
   "file_extension": ".py",
   "mimetype": "text/x-python",
   "name": "python",
   "nbconvert_exporter": "python",
   "pygments_lexer": "ipython3",
   "version": "3.6.5"
  }
 },
 "nbformat": 4,
 "nbformat_minor": 2
}
