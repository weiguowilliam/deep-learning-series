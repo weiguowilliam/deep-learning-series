{
 "cells": [
  {
   "cell_type": "code",
   "execution_count": 1,
   "metadata": {},
   "outputs": [
    {
     "name": "stderr",
     "output_type": "stream",
     "text": [
      "D:\\anaconda\\lib\\site-packages\\h5py\\__init__.py:36: FutureWarning: Conversion of the second argument of issubdtype from `float` to `np.floating` is deprecated. In future, it will be treated as `np.float64 == np.dtype(float).type`.\n",
      "  from ._conv import register_converters as _register_converters\n"
     ]
    }
   ],
   "source": [
    "import tensorflow as tf\n",
    "import numpy as np\n",
    "import pandas as pd\n",
    "import matplotlib.pyplot as plt"
   ]
  },
  {
   "cell_type": "code",
   "execution_count": 2,
   "metadata": {},
   "outputs": [],
   "source": [
    "def get_mnist(limit = None):\n",
    "    dt = pd.read_csv('C:\\\\Users\\\\Wei Guo\\\\Desktop\\\\data\\\\digit.csv')\n",
    "    dt_value = dt.values\n",
    "    X = dt_value[:,1:]\n",
    "    Y = dt_value[:,0]\n",
    "    if limit != None:\n",
    "        X = X[:int(limit)]\n",
    "        Y = Y[:int(limit)]\n",
    "    return X,Y"
   ]
  },
  {
   "cell_type": "code",
   "execution_count": 7,
   "metadata": {},
   "outputs": [],
   "source": [
    "class AutoEncoder:\n",
    "    def __init__(self,D,M):\n",
    "        self.X = tf.placeholder(tf.float32,shape=(None,D))\n",
    "        #encode\n",
    "        self.W1 = tf.Variable(tf.random_normal(shape=(D,M))/np.sqrt(M))\n",
    "        self.b1 = tf.Variable(np.zeros(M).astype(np.float32))\n",
    "        #decode\n",
    "        self.W2 = tf.Variable(tf.random_normal(shape=(M,D))/np.sqrt(D))\n",
    "        self.b2 = tf.Variable(np.zeros(D).astype(np.float32))\n",
    "        #output\n",
    "        self.z = tf.nn.relu(tf.matmul(self.X,self.W1) + self.b1)\n",
    "        logit = tf.matmul(self.z,self.W2) + self.b2 #how about using softmax\n",
    "        self.X_hat = tf.nn.sigmoid(logit)\n",
    "        \n",
    "        #cost\n",
    "        self.cost = tf.reduce_sum(\n",
    "            tf.nn.sigmoid_cross_entropy_with_logits(\n",
    "                labels = self.X,\n",
    "                logits = logit\n",
    "            )\n",
    "        )\n",
    "        \n",
    "        self.trainop = tf.train.RMSPropOptimizer(learning_rate=0.0001).minimize(self.cost)\n",
    "        \n",
    "        self.variable_op = tf.global_variables_initializer()\n",
    "        self.sess = tf.InteractiveSession()\n",
    "        self.sess.run(self.variable_op)\n",
    "    \n",
    "    def fit(self,X, epo = 30, batch_size = 60):\n",
    "        costs = []\n",
    "        batch_num = int(len(X)/batch_size)\n",
    "        for i in range(epo):\n",
    "            for j in range(batch_num):\n",
    "                X_batch = X[int(j*batch_size):int(j*batch_size+batch_size)]\n",
    "                _,c = self.sess.run((self.trainop,self.cost),feed_dict={self.X:X_batch})\n",
    "                costs.append(c)\n",
    "        plt.plot(costs)\n",
    "        plt.show()\n",
    "        \n",
    "    def predict(self,X):\n",
    "        return self.sess.run(self.X_hat,feed_dict={self.X:X})"
   ]
  },
  {
   "cell_type": "code",
   "execution_count": 8,
   "metadata": {},
   "outputs": [
    {
     "data": {
      "image/png": "[encoded data removed]",
      "text/plain": [
       "<Figure size 432x288 with 1 Axes>"
      ]
     },
     "metadata": {},
     "output_type": "display_data"
    }
   ],
   "source": [
    "X,Y = get_mnist()\n",
    "clf = AutoEncoder(784,200)\n",
    "clf.fit(X)\n"
   ]
  },
  {
   "cell_type": "code",
   "execution_count": null,
   "metadata": {},
   "outputs": [],
   "source": []
  }
 ],
 "metadata": {
  "kernelspec": {
   "display_name": "Python [default]",
   "language": "python",
   "name": "python3"
  },
  "language_info": {
   "codemirror_mode": {
    "name": "ipython",
    "version": 3
   },
   "file_extension": ".py",
   "mimetype": "text/x-python",
   "name": "python",
   "nbconvert_exporter": "python",
   "pygments_lexer": "ipython3",
   "version": "3.6.5"
  }
 },
 "nbformat": 4,
 "nbformat_minor": 2
}
