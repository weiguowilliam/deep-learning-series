{
 "cells": [
  {
   "cell_type": "code",
   "execution_count": 1,
   "metadata": {},
   "outputs": [],
   "source": [
    "import numpy as np\n",
    "import pandas as pd\n",
    "import os\n",
    "import matplotlib.pyplot as plt\n",
    "from sklearn.decomposition import PCA\n",
    "from sklearn.linear_model import LogisticRegression\n",
    "from sklearn.preprocessing import normalize\n"
   ]
  },
  {
   "cell_type": "markdown",
   "metadata": {},
   "source": [
    "### get_data"
   ]
  },
  {
   "cell_type": "code",
   "execution_count": 4,
   "metadata": {},
   "outputs": [],
   "source": [
    "def get_data():\n",
    "    \"\"\"\n",
    "    get random samples with 3 classes, N-class = 500\n",
    "    \"\"\"\n",
    "    N_class = 500\n",
    "    K = 3\n",
    "\n",
    "    X1 = np.random.rand(N_class,2) + np.array([2,2])\n",
    "    X2 = np.random.rand(N_class, 2) + np.array([-2,0])\n",
    "    X3 = np.random.rand(N_class, 2) +np.array([0,4])\n",
    "    X = np.vstack((X1,X2,X3))\n",
    "    \n",
    "    Y = np.array([0]*N_class+[1]*N_class+[2]*N_class)\n",
    "\n",
    "    return X,Y"
   ]
  },
  {
   "cell_type": "code",
   "execution_count": 5,
   "metadata": {},
   "outputs": [],
   "source": [
    "x,y = get_data()"
   ]
  },
  {
   "cell_type": "code",
   "execution_count": 10,
   "metadata": {},
   "outputs": [
    {
     "data": {
      "text/plain": [
       "0"
      ]
     },
     "execution_count": 10,
     "metadata": {},
     "output_type": "execute_result"
    }
   ],
   "source": [
    "y[499]"
   ]
  },
  {
   "cell_type": "markdown",
   "metadata": {},
   "source": [
    "### spiral"
   ]
  },
  {
   "cell_type": "code",
   "execution_count": 44,
   "metadata": {},
   "outputs": [],
   "source": [
    "def get_spiral():\n",
    "    radius = np.linspace(1,10,100)\n",
    "    theta = np.zeros((6,100))\n",
    "    for i in range(6):\n",
    "        start_angle = np.pi/3 * i\n",
    "        end_angle = start_angle + np.pi/2\n",
    "        tem = np.linspace(start_angle,end_angle,100)\n",
    "        theta[i] = tem\n",
    "    \n",
    "    x1 = np.zeros((6,100))\n",
    "    x2 = np.zeros((6,100))\n",
    "    \n",
    "    for i in range(6):\n",
    "        x1[i] = radius * np.cos(theta[i])\n",
    "        x2[i] = radius * np.sin(theta[i])\n",
    "    \n",
    "    X = np.zeros((600,2))\n",
    "    X[:,0] = x1.flatten()\n",
    "    X[:,1] = x2.flatten()\n",
    "    \n",
    "    X +=  np.random.rand(600,2)/5\n",
    "    Y = np.array([0]*100+[1]*100+[0]*100+[1]*100+[0]*100+[1]*100)\n",
    "#     Y = np.array([0,1]*300)\n",
    "    \n",
    "    return X, Y"
   ]
  },
  {
   "cell_type": "code",
   "execution_count": 45,
   "metadata": {},
   "outputs": [],
   "source": [
    "x,y = get_spiral()"
   ]
  },
  {
   "cell_type": "code",
   "execution_count": 46,
   "metadata": {},
   "outputs": [
    {
     "data": {
      "text/plain": [
       "<matplotlib.collections.PathCollection at 0x25023b31828>"
      ]
     },
     "execution_count": 46,
     "metadata": {},
     "output_type": "execute_result"
    },
    {
     "data": {
      "image/png": "[encoded data removed]",
      "text/plain": [
       "<matplotlib.figure.Figure at 0x25023c546d8>"
      ]
     },
     "metadata": {},
     "output_type": "display_data"
    }
   ],
   "source": [
    "plt.scatter(x[:,0],x[:,1],c=y)"
   ]
  },
  {
   "cell_type": "code",
   "execution_count": 37,
   "metadata": {},
   "outputs": [],
   "source": [
    "x,y = get_spiral()"
   ]
  },
  {
   "cell_type": "markdown",
   "metadata": {},
   "source": [
    "### get transformed data"
   ]
  },
  {
   "cell_type": "code",
   "execution_count": 68,
   "metadata": {},
   "outputs": [],
   "source": [
    "def get_transformed_digit():\n",
    "    #import\n",
    "    dt = pd.read_csv('digit.csv').as_matrix()\n",
    "    np.random.shuffle(dt)\n",
    "    X = dt[:,1:]\n",
    "    Y = dt[:,0]\n",
    "    \n",
    "    #pca\n",
    "    pca = PCA(n_components=100)\n",
    "    pca.fit(X)\n",
    "    Z = pca.transform(X)\n",
    "    exp_sum = np.sum(pca.explained_variance_ratio_)\n",
    "    \n",
    "    #normalize\n",
    "    z_mean = np.mean(Z,axis=0)\n",
    "    z_std = np.std(Z, axis = 0)\n",
    "    Z_normalized = (Z-z_mean)/z_std\n",
    "    \n",
    "    #split\n",
    "    X_train = Z_normalized[:-300]\n",
    "    Y_train = Y[:-300]\n",
    "    X_test = Z_normalized[-300:]\n",
    "    Y_test = Y[-300:]\n",
    "    \n",
    "    #return\n",
    "    return X_train, Y_train, X_test, Y_test"
   ]
  },
  {
   "cell_type": "markdown",
   "metadata": {},
   "source": [
    "### nn"
   ]
  },
  {
   "cell_type": "code",
   "execution_count": 92,
   "metadata": {},
   "outputs": [],
   "source": [
    "def forward(x,w,b):\n",
    "    a = x.dot(w) + b\n",
    "    a_exp = np.exp(a)\n",
    "    return a_exp/np.sum(a_exp,axis=1,keepdims=True)"
   ]
  },
  {
   "cell_type": "code",
   "execution_count": 99,
   "metadata": {},
   "outputs": [],
   "source": [
    "def predict(y_matrix):\n",
    "    \"\"\"\n",
    "    transform the fitted y_matrix to indicator vector\n",
    "    \"\"\"\n",
    "    return np.argmax(y_matrix, axis=1)"
   ]
  },
  {
   "cell_type": "code",
   "execution_count": 102,
   "metadata": {},
   "outputs": [],
   "source": [
    "def error_rate(y_matrix,target):\n",
    "    y_vector = np.argmax(y_matrix,axis = 1)\n",
    "    return np.mean(y_vector != target)"
   ]
  },
  {
   "cell_type": "code",
   "execution_count": 112,
   "metadata": {},
   "outputs": [],
   "source": [
    "def cost(y_matrix,t_matrix):\n",
    "    \"\"\"\n",
    "    here t is n*k matrix, not vector\n",
    "    \"\"\"\n",
    "    tot = t_matrix*np.log(y_matrix)\n",
    "    return -np.sum(tot)"
   ]
  },
  {
   "cell_type": "code",
   "execution_count": 129,
   "metadata": {},
   "outputs": [],
   "source": [
    "def deri_w(t_matrix,y_matrix,x):\n",
    "    return x.T.dot(t_matrix - y_matrix)"
   ]
  },
  {
   "cell_type": "code",
   "execution_count": 115,
   "metadata": {},
   "outputs": [],
   "source": [
    "def deri_b(t_matrix,y_matrix):\n",
    "    return np.sum(t_matrix - y_matrix, axis = 0)"
   ]
  },
  {
   "cell_type": "code",
   "execution_count": 127,
   "metadata": {},
   "outputs": [],
   "source": [
    "def y2indicator(y_vector):\n",
    "    \"\"\"\n",
    "    transform the vector y to matrix y\n",
    "    \"\"\"\n",
    "    l = len(y_vector)\n",
    "    indi = np.zeros((l,10))\n",
    "    for i in range(l):\n",
    "        indi[i,y_vector[i]] = 1\n",
    "    return indi"
   ]
  },
  {
   "cell_type": "code",
   "execution_count": 133,
   "metadata": {},
   "outputs": [],
   "source": [
    "def benchmark_full():\n",
    "    \"\"\"\n",
    "    use util functions to run the logistic classification with bp\n",
    "    \"\"\"\n",
    "    \n",
    "    X_train, Y_train, X_test, Y_test = get_transformed_digit()\n",
    "    \n",
    "    N,D = X_train.shape\n",
    "    yindi_train = y2indicator(Y_train)\n",
    "    yindi_test = y2indicator(Y_test)\n",
    "    \n",
    "    M = yindi_test.shape[1]\n",
    "    \n",
    "    W = np.random.rand(D,M)\n",
    "    b = np.random.rand(M)\n",
    "    \n",
    "    cost_train = []\n",
    "    cost_test = []\n",
    "    error_test = []\n",
    "    \n",
    "    eta = 1e-4\n",
    "    penalty = 1e-2\n",
    "    for i in range(10000):\n",
    "        #train\n",
    "        y_ma = forward(x=X_train,w=W,b=b)\n",
    "        cost_tem = cost(y_matrix = y_ma,t_matrix = yindi_train)\n",
    "        cost_train.append(cost_tem)\n",
    "        \n",
    "        #test\n",
    "        y_test_ma = forward(x= X_test,w=W,b=b)\n",
    "        cost_test_tem = cost(y_matrix = y_test_ma, t_matrix = yindi_test)\n",
    "        cost_test.append(cost_test_tem)\n",
    "        \n",
    "        #error\n",
    "        error_tem = error_rate(y_matrix = y_test_ma ,target = Y_test)\n",
    "        error_test.append(error_tem)\n",
    "        \n",
    "        W += eta*(deri_w(t_matrix = yindi_train,y_matrix = y_ma,x = X_train) - penalty * W)\n",
    "        b += eta*(deri_b(t_matrix = yindi_train,y_matrix = y_ma) - penalty * b)\n",
    "        if i % 100 == 0:\n",
    "            print(\"the error rate in \"+str(i)+\" iteration is : \"+str(error_tem))\n",
    "    \n",
    "    #final\n",
    "    y_final = forward(x = X_test, w=W,b=b)\n",
    "    error_final = error_rate(y_matrix = y_final,target = Y_test)\n",
    "    print(\"the final error rate is \"+str(error_final))"
   ]
  },
  {
   "cell_type": "code",
   "execution_count": 134,
   "metadata": {},
   "outputs": [
    {
     "name": "stdout",
     "output_type": "stream",
     "text": [
      "the error rate in 0 iteration is : 0.8966666666666666\n",
      "the error rate in 100 iteration is : 0.06\n",
      "the error rate in 200 iteration is : 0.06666666666666667\n",
      "the error rate in 300 iteration is : 0.06333333333333334\n",
      "the error rate in 400 iteration is : 0.06333333333333334\n",
      "the error rate in 500 iteration is : 0.06333333333333334\n",
      "the error rate in 600 iteration is : 0.06666666666666667\n",
      "the error rate in 700 iteration is : 0.07\n",
      "the error rate in 800 iteration is : 0.07\n",
      "the error rate in 900 iteration is : 0.07\n",
      "the error rate in 1000 iteration is : 0.07\n",
      "the error rate in 1100 iteration is : 0.07\n",
      "the error rate in 1200 iteration is : 0.07\n",
      "the error rate in 1300 iteration is : 0.07\n",
      "the error rate in 1400 iteration is : 0.07\n",
      "the error rate in 1500 iteration is : 0.07\n",
      "the error rate in 1600 iteration is : 0.07\n",
      "the error rate in 1700 iteration is : 0.07\n",
      "the error rate in 1800 iteration is : 0.07333333333333333\n",
      "the error rate in 1900 iteration is : 0.07333333333333333\n",
      "the error rate in 2000 iteration is : 0.07333333333333333\n",
      "the error rate in 2100 iteration is : 0.07333333333333333\n",
      "the error rate in 2200 iteration is : 0.07333333333333333\n",
      "the error rate in 2300 iteration is : 0.07333333333333333\n",
      "the error rate in 2400 iteration is : 0.07333333333333333\n",
      "the error rate in 2500 iteration is : 0.07333333333333333\n",
      "the error rate in 2600 iteration is : 0.07333333333333333\n",
      "the error rate in 2700 iteration is : 0.07333333333333333\n",
      "the error rate in 2800 iteration is : 0.07333333333333333\n",
      "the error rate in 2900 iteration is : 0.07333333333333333\n",
      "the error rate in 3000 iteration is : 0.07333333333333333\n",
      "the error rate in 3100 iteration is : 0.07333333333333333\n"
     ]
    },
    {
     "ename": "KeyboardInterrupt",
     "evalue": "",
     "output_type": "error",
     "traceback": [
      "\u001b[1;31m---------------------------------------------------------------------------\u001b[0m",
      "\u001b[1;31mKeyboardInterrupt\u001b[0m                         Traceback (most recent call last)",
      "\u001b[1;32m<ipython-input-134-d14d5c5dc41e>\u001b[0m in \u001b[0;36m<module>\u001b[1;34m()\u001b[0m\n\u001b[1;32m----> 1\u001b[1;33m \u001b[0mbenchmark_full\u001b[0m\u001b[1;33m(\u001b[0m\u001b[1;33m)\u001b[0m\u001b[1;33m\u001b[0m\u001b[0m\n\u001b[0m",
      "\u001b[1;32m<ipython-input-133-4c8e06251c19>\u001b[0m in \u001b[0;36mbenchmark_full\u001b[1;34m()\u001b[0m\n\u001b[0;32m     36\u001b[0m         \u001b[0merror_test\u001b[0m\u001b[1;33m.\u001b[0m\u001b[0mappend\u001b[0m\u001b[1;33m(\u001b[0m\u001b[0merror_tem\u001b[0m\u001b[1;33m)\u001b[0m\u001b[1;33m\u001b[0m\u001b[0m\n\u001b[0;32m     37\u001b[0m \u001b[1;33m\u001b[0m\u001b[0m\n\u001b[1;32m---> 38\u001b[1;33m         \u001b[0mW\u001b[0m \u001b[1;33m+=\u001b[0m \u001b[0meta\u001b[0m\u001b[1;33m*\u001b[0m\u001b[1;33m(\u001b[0m\u001b[0mderi_w\u001b[0m\u001b[1;33m(\u001b[0m\u001b[0mt_matrix\u001b[0m \u001b[1;33m=\u001b[0m \u001b[0myindi_train\u001b[0m\u001b[1;33m,\u001b[0m\u001b[0my_matrix\u001b[0m \u001b[1;33m=\u001b[0m \u001b[0my_ma\u001b[0m\u001b[1;33m,\u001b[0m\u001b[0mx\u001b[0m \u001b[1;33m=\u001b[0m \u001b[0mX_train\u001b[0m\u001b[1;33m)\u001b[0m \u001b[1;33m-\u001b[0m \u001b[0mpenalty\u001b[0m \u001b[1;33m*\u001b[0m \u001b[0mW\u001b[0m\u001b[1;33m)\u001b[0m\u001b[1;33m\u001b[0m\u001b[0m\n\u001b[0m\u001b[0;32m     39\u001b[0m         \u001b[0mb\u001b[0m \u001b[1;33m+=\u001b[0m \u001b[0meta\u001b[0m\u001b[1;33m*\u001b[0m\u001b[1;33m(\u001b[0m\u001b[0mderi_b\u001b[0m\u001b[1;33m(\u001b[0m\u001b[0mt_matrix\u001b[0m \u001b[1;33m=\u001b[0m \u001b[0myindi_train\u001b[0m\u001b[1;33m,\u001b[0m\u001b[0my_matrix\u001b[0m \u001b[1;33m=\u001b[0m \u001b[0my_ma\u001b[0m\u001b[1;33m)\u001b[0m \u001b[1;33m-\u001b[0m \u001b[0mpenalty\u001b[0m \u001b[1;33m*\u001b[0m \u001b[0mb\u001b[0m\u001b[1;33m)\u001b[0m\u001b[1;33m\u001b[0m\u001b[0m\n\u001b[0;32m     40\u001b[0m         \u001b[1;32mif\u001b[0m \u001b[0mi\u001b[0m \u001b[1;33m%\u001b[0m \u001b[1;36m100\u001b[0m \u001b[1;33m==\u001b[0m \u001b[1;36m0\u001b[0m\u001b[1;33m:\u001b[0m\u001b[1;33m\u001b[0m\u001b[0m\n",
      "\u001b[1;32m<ipython-input-129-bcb4488d7a1f>\u001b[0m in \u001b[0;36mderi_w\u001b[1;34m(t_matrix, y_matrix, x)\u001b[0m\n\u001b[0;32m      1\u001b[0m \u001b[1;32mdef\u001b[0m \u001b[0mderi_w\u001b[0m\u001b[1;33m(\u001b[0m\u001b[0mt_matrix\u001b[0m\u001b[1;33m,\u001b[0m\u001b[0my_matrix\u001b[0m\u001b[1;33m,\u001b[0m\u001b[0mx\u001b[0m\u001b[1;33m)\u001b[0m\u001b[1;33m:\u001b[0m\u001b[1;33m\u001b[0m\u001b[0m\n\u001b[1;32m----> 2\u001b[1;33m     \u001b[1;32mreturn\u001b[0m \u001b[0mx\u001b[0m\u001b[1;33m.\u001b[0m\u001b[0mT\u001b[0m\u001b[1;33m.\u001b[0m\u001b[0mdot\u001b[0m\u001b[1;33m(\u001b[0m\u001b[0mt_matrix\u001b[0m \u001b[1;33m-\u001b[0m \u001b[0my_matrix\u001b[0m\u001b[1;33m)\u001b[0m\u001b[1;33m\u001b[0m\u001b[0m\n\u001b[0m",
      "\u001b[1;31mKeyboardInterrupt\u001b[0m: "
     ]
    }
   ],
   "source": [
    "benchmark_full()"
   ]
  },
  {
   "cell_type": "markdown",
   "metadata": {},
   "source": [
    "### mlp"
   ]
  },
  {
   "cell_type": "code",
   "execution_count": 3,
   "metadata": {},
   "outputs": [],
   "source": [
    "def forward(x,w1,b1,w2,b2,method):\n",
    "    if method == 'sigmoid':\n",
    "        tem = x.dot(w1)+b1\n",
    "        z = 1/(1+np.exp((-1)*tem))\n",
    "    if method == 'relu':\n",
    "        z = x.dot(w1) + b1\n",
    "        z[z<0] = 0\n",
    "    else:\n",
    "        print(\"input the correct method\")\n",
    "        return None\n",
    "    \n",
    "    a = z.dot(w2) + b2\n",
    "    expa = np.exp(a)\n",
    "    y = expa/np.sum(expa,axis=1,keepdims=True)\n",
    "    \n",
    "    return y,z\n",
    "    "
   ]
  },
  {
   "cell_type": "code",
   "execution_count": 4,
   "metadata": {},
   "outputs": [],
   "source": [
    "from sklearn.utils import shuffle"
   ]
  },
  {
   "cell_type": "code",
   "execution_count": 18,
   "metadata": {},
   "outputs": [],
   "source": [
    "a = np.array([[1,2,3],[2,1,3],[3,2,1]])\n",
    "b = np.array([[1,2,3],[2,1,3],[3,2,1]])\n",
    "ta,tb = shuffle(a,b)"
   ]
  },
  {
   "cell_type": "code",
   "execution_count": 19,
   "metadata": {},
   "outputs": [
    {
     "data": {
      "text/plain": [
       "array([[1, 2, 3],\n",
       "       [2, 1, 3],\n",
       "       [3, 2, 1]])"
      ]
     },
     "execution_count": 19,
     "metadata": {},
     "output_type": "execute_result"
    }
   ],
   "source": [
    "ta"
   ]
  },
  {
   "cell_type": "code",
   "execution_count": 20,
   "metadata": {},
   "outputs": [
    {
     "data": {
      "text/plain": [
       "array([[1, 2, 3],\n",
       "       [2, 1, 3],\n",
       "       [3, 2, 1]])"
      ]
     },
     "execution_count": 20,
     "metadata": {},
     "output_type": "execute_result"
    }
   ],
   "source": [
    "tb"
   ]
  },
  {
   "cell_type": "code",
   "execution_count": 22,
   "metadata": {},
   "outputs": [],
   "source": [
    "a = 0"
   ]
  },
  {
   "cell_type": "code",
   "execution_count": 23,
   "metadata": {},
   "outputs": [
    {
     "data": {
      "text/plain": [
       "array([[1, 2, 3],\n",
       "       [2, 1, 3]])"
      ]
     },
     "execution_count": 23,
     "metadata": {},
     "output_type": "execute_result"
    }
   ],
   "source": [
    "a + np.array([[1,2,3],[2,1,3]])"
   ]
  },
  {
   "cell_type": "code",
   "execution_count": null,
   "metadata": {},
   "outputs": [],
   "source": []
  }
 ],
 "metadata": {
  "kernelspec": {
   "display_name": "Python 3",
   "language": "python",
   "name": "python3"
  },
  "language_info": {
   "codemirror_mode": {
    "name": "ipython",
    "version": 3
   },
   "file_extension": ".py",
   "mimetype": "text/x-python",
   "name": "python",
   "nbconvert_exporter": "python",
   "pygments_lexer": "ipython3",
   "version": "3.6.4"
  }
 },
 "nbformat": 4,
 "nbformat_minor": 2
}
