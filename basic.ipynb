{
 "cells": [
  {
   "cell_type": "markdown",
   "metadata": {},
   "source": [
    "### softmax"
   ]
  },
  {
   "cell_type": "code",
   "execution_count": 53,
   "metadata": {},
   "outputs": [],
   "source": [
    "import numpy as np\n",
    "a = np.random.rand(10,2)"
   ]
  },
  {
   "cell_type": "code",
   "execution_count": 13,
   "metadata": {},
   "outputs": [],
   "source": [
    "b = np.exp(a)"
   ]
  },
  {
   "cell_type": "code",
   "execution_count": 14,
   "metadata": {},
   "outputs": [
    {
     "data": {
      "text/plain": [
       "array([[2.11560907, 1.18549965],\n",
       "       [1.59606221, 1.18056098],\n",
       "       [1.09716666, 1.16353934],\n",
       "       [1.9202127 , 1.95041626],\n",
       "       [2.45972565, 1.79287486],\n",
       "       [1.65564724, 2.00973726],\n",
       "       [2.18336709, 1.33127682],\n",
       "       [2.57465069, 2.68756648],\n",
       "       [1.86538468, 1.38330082],\n",
       "       [1.23987765, 1.66981995]])"
      ]
     },
     "execution_count": 14,
     "metadata": {},
     "output_type": "execute_result"
    }
   ],
   "source": [
    "b"
   ]
  },
  {
   "cell_type": "code",
   "execution_count": 15,
   "metadata": {},
   "outputs": [
    {
     "data": {
      "text/plain": [
       "35.06229603265164"
      ]
     },
     "execution_count": 15,
     "metadata": {},
     "output_type": "execute_result"
    }
   ],
   "source": [
    "np.sum(b)"
   ]
  },
  {
   "cell_type": "code",
   "execution_count": 18,
   "metadata": {},
   "outputs": [],
   "source": [
    "def my_softmax(num):\n",
    "    sm = np.exp(num)/np.sum(np.exp(num),axis = 1, keepdims= True)\n",
    "    return sm"
   ]
  },
  {
   "cell_type": "code",
   "execution_count": 56,
   "metadata": {},
   "outputs": [
    {
     "data": {
      "text/plain": [
       "10"
      ]
     },
     "execution_count": 56,
     "metadata": {},
     "output_type": "execute_result"
    }
   ],
   "source": [
    "len(my_softmax(a))"
   ]
  },
  {
   "cell_type": "code",
   "execution_count": 55,
   "metadata": {},
   "outputs": [
    {
     "data": {
      "text/plain": [
       "array([1., 1., 1., 1., 1., 1., 1., 1., 1., 1.])"
      ]
     },
     "execution_count": 55,
     "metadata": {},
     "output_type": "execute_result"
    }
   ],
   "source": [
    "np.sum(my_softmax(a),axis = 1)"
   ]
  },
  {
   "cell_type": "markdown",
   "metadata": {},
   "source": [
    "### feedforward nn"
   ]
  },
  {
   "cell_type": "code",
   "execution_count": 35,
   "metadata": {},
   "outputs": [],
   "source": [
    "import numpy as np\n",
    "import matplotlib.pyplot as plt"
   ]
  },
  {
   "cell_type": "code",
   "execution_count": 39,
   "metadata": {},
   "outputs": [],
   "source": [
    "N = 300\n",
    "X1 = np.random.rand(N,2) + np.array([2,-2])\n",
    "X2 = np.random.rand(N,2) + np.array([-2,2])\n",
    "X3 = np.random.rand(N,2) + np.array([1,1])\n",
    "X = np.vstack((X1,X2,X3))"
   ]
  },
  {
   "cell_type": "code",
   "execution_count": 45,
   "metadata": {},
   "outputs": [],
   "source": [
    "Y = np.array([0]* 300 + [1] * 300 + [2]*300)"
   ]
  },
  {
   "cell_type": "code",
   "execution_count": 46,
   "metadata": {},
   "outputs": [
    {
     "data": {
      "text/plain": [
       "<matplotlib.collections.PathCollection at 0x196730427f0>"
      ]
     },
     "execution_count": 46,
     "metadata": {},
     "output_type": "execute_result"
    },
    {
     "data": {
      "image/png": "[encoded data removed]",
      "text/plain": [
       "<matplotlib.figure.Figure at 0x19673072438>"
      ]
     },
     "metadata": {},
     "output_type": "display_data"
    }
   ],
   "source": [
    "plt.scatter(X[:,0],X[:,1],c = Y)"
   ]
  },
  {
   "cell_type": "code",
   "execution_count": 47,
   "metadata": {},
   "outputs": [],
   "source": [
    "#parameters\n",
    "W1 = np.random.rand(2,3)\n",
    "b1 = np.random.rand(3)\n",
    "W2 = np.random.rand(3,3)\n",
    "b2 = np.random.rand(3)"
   ]
  },
  {
   "cell_type": "code",
   "execution_count": 48,
   "metadata": {},
   "outputs": [],
   "source": [
    "def my_sigmoid(x):\n",
    "    return 1/(1+np.exp(-1*x))"
   ]
  },
  {
   "cell_type": "code",
   "execution_count": 49,
   "metadata": {},
   "outputs": [],
   "source": [
    "def my_softmax(num):\n",
    "    sm = np.exp(num)/np.sum(np.exp(num),axis = 1, keepdims= True)\n",
    "    return sm"
   ]
  },
  {
   "cell_type": "code",
   "execution_count": 50,
   "metadata": {},
   "outputs": [],
   "source": [
    "def my_forward(x,w1,b1,w2,b2):\n",
    "    z = my_sigmoid(x.dot(w1) + b1)\n",
    "    y_b = z.dot(w2) + b2\n",
    "    y = my_softmax(y_b)\n",
    "    return y   "
   ]
  },
  {
   "cell_type": "code",
   "execution_count": 58,
   "metadata": {},
   "outputs": [],
   "source": [
    "def my_rate(p,y):\n",
    "    right_count = 0\n",
    "    for i in range(len(p)):\n",
    "        if p[i] == y[i]:\n",
    "            right_count += 1\n",
    "    rate = right_count / len(p)\n",
    "    return rate"
   ]
  },
  {
   "cell_type": "code",
   "execution_count": 64,
   "metadata": {},
   "outputs": [],
   "source": [
    "y_pre = my_forward(X,W1,b1,W2,b2)\n",
    "p = np.argmax(y_pre,axis = 1)"
   ]
  },
  {
   "cell_type": "code",
   "execution_count": 65,
   "metadata": {},
   "outputs": [],
   "source": [
    "rate = my_rate(p,Y)"
   ]
  },
  {
   "cell_type": "code",
   "execution_count": 66,
   "metadata": {},
   "outputs": [
    {
     "name": "stdout",
     "output_type": "stream",
     "text": [
      "0.1288888888888889\n"
     ]
    }
   ],
   "source": [
    "print(rate)"
   ]
  },
  {
   "cell_type": "markdown",
   "metadata": {},
   "source": [
    "### ecommerce project"
   ]
  },
  {
   "cell_type": "code",
   "execution_count": 67,
   "metadata": {},
   "outputs": [],
   "source": [
    "import numpy as np\n",
    "import pandas as pd"
   ]
  },
  {
   "cell_type": "code",
   "execution_count": 86,
   "metadata": {},
   "outputs": [],
   "source": [
    "def get_data():\n",
    "    dt = pd.read_csv('ecommerce_data.csv')\n",
    "    dt = dt.as_matrix()\n",
    "    N,D = dt.shape\n",
    "    X = dt[:,:-1]\n",
    "    Y = dt[:,-1]\n",
    "    #normalize the 2,3 columns\n",
    "    X[:,1] = (X[:,1] - np.mean(X[:,1]))/np.std(X[:,1])\n",
    "    X[:,2] = (X[:,2] - np.mean(X[:,2]))/np.std(X[:,2])\n",
    "    #one-hot the 4 column\n",
    "    X2 = np.zeros((N,D+2))\n",
    "    X2[:,:-4] = X[:,:-1]\n",
    "    for i in range(N):\n",
    "        code = int(X[i,-1])\n",
    "        X2[i,D-2+code] = 1\n",
    "    \n",
    "    return X2, Y\n",
    "    "
   ]
  },
  {
   "cell_type": "code",
   "execution_count": 100,
   "metadata": {},
   "outputs": [],
   "source": [
    "def get_binary():\n",
    "    X, Y = get_data()\n",
    "    X2 = X[Y<2,:]\n",
    "    Y2 = Y[Y<2]\n",
    "    \n",
    "    return X2, Y2"
   ]
  },
  {
   "cell_type": "code",
   "execution_count": 113,
   "metadata": {},
   "outputs": [],
   "source": [
    "X, Y = get_binary()"
   ]
  },
  {
   "cell_type": "code",
   "execution_count": 117,
   "metadata": {},
   "outputs": [],
   "source": [
    "N,D = X.shape\n",
    "M = 5\n",
    "K = len(set(Y))\n",
    "W1 = np.random.rand(D,M)\n",
    "b1 = np.random.rand(M)\n",
    "W2 = np.random.rand(M,K)\n",
    "b2 = np.random.rand(K)"
   ]
  },
  {
   "cell_type": "code",
   "execution_count": 118,
   "metadata": {},
   "outputs": [
    {
     "name": "stdout",
     "output_type": "stream",
     "text": [
      "(398, 8)\n",
      "(398,)\n"
     ]
    }
   ],
   "source": [
    "print(X.shape)\n",
    "print(Y.shape)"
   ]
  },
  {
   "cell_type": "code",
   "execution_count": 119,
   "metadata": {},
   "outputs": [
    {
     "name": "stdout",
     "output_type": "stream",
     "text": [
      "[[0.39432599 0.60567401]\n",
      " [0.3668174  0.6331826 ]\n",
      " [0.39729959 0.60270041]\n",
      " [0.37275634 0.62724366]\n",
      " [0.42180161 0.57819839]\n",
      " [0.36053757 0.63946243]\n",
      " [0.43194646 0.56805354]\n",
      " [0.4133429  0.5866571 ]\n",
      " [0.41141743 0.58858257]\n",
      " [0.34582452 0.65417548]\n",
      " [0.42050746 0.57949254]\n",
      " [0.36015973 0.63984027]\n",
      " [0.33240238 0.66759762]\n",
      " [0.3868017  0.6131983 ]\n",
      " [0.45371283 0.54628717]\n",
      " [0.4406002  0.5593998 ]\n",
      " [0.3812062  0.6187938 ]\n",
      " [0.44976008 0.55023992]\n",
      " [0.39760764 0.60239236]\n",
      " [0.35799683 0.64200317]\n",
      " [0.39541865 0.60458135]\n",
      " [0.39396621 0.60603379]\n",
      " [0.36182896 0.63817104]\n",
      " [0.35219646 0.64780354]\n",
      " [0.42280715 0.57719285]\n",
      " [0.43817288 0.56182712]\n",
      " [0.34184656 0.65815344]\n",
      " [0.37793655 0.62206345]\n",
      " [0.41805407 0.58194593]\n",
      " [0.35166048 0.64833952]\n",
      " [0.44624406 0.55375594]\n",
      " [0.38318476 0.61681524]\n",
      " [0.42235731 0.57764269]\n",
      " [0.36677818 0.63322182]\n",
      " [0.39589814 0.60410186]\n",
      " [0.34923465 0.65076535]\n",
      " [0.37195787 0.62804213]\n",
      " [0.36354099 0.63645901]\n",
      " [0.37219488 0.62780512]\n",
      " [0.3288493  0.6711507 ]\n",
      " [0.34607946 0.65392054]\n",
      " [0.4113681  0.5886319 ]\n",
      " [0.35640593 0.64359407]\n",
      " [0.37321574 0.62678426]\n",
      " [0.40968437 0.59031563]\n",
      " [0.39698976 0.60301024]\n",
      " [0.3544174  0.6455826 ]\n",
      " [0.38639757 0.61360243]\n",
      " [0.37013508 0.62986492]\n",
      " [0.37173744 0.62826256]\n",
      " [0.33242862 0.66757138]\n",
      " [0.41507994 0.58492006]\n",
      " [0.33226532 0.66773468]\n",
      " [0.35983905 0.64016095]\n",
      " [0.34088749 0.65911251]\n",
      " [0.38622171 0.61377829]\n",
      " [0.37146865 0.62853135]\n",
      " [0.3495508  0.6504492 ]\n",
      " [0.42203965 0.57796035]\n",
      " [0.41737369 0.58262631]\n",
      " [0.3708286  0.6291714 ]\n",
      " [0.42883081 0.57116919]\n",
      " [0.3606573  0.6393427 ]\n",
      " [0.36040771 0.63959229]\n",
      " [0.39014638 0.60985362]\n",
      " [0.41929366 0.58070634]\n",
      " [0.39340689 0.60659311]\n",
      " [0.37830113 0.62169887]\n",
      " [0.38767581 0.61232419]\n",
      " [0.34128325 0.65871675]\n",
      " [0.40564814 0.59435186]\n",
      " [0.37043474 0.62956526]\n",
      " [0.36337789 0.63662211]\n",
      " [0.34194841 0.65805159]\n",
      " [0.39760919 0.60239081]\n",
      " [0.44011214 0.55988786]\n",
      " [0.40423659 0.59576341]\n",
      " [0.41236321 0.58763679]\n",
      " [0.36694855 0.63305145]\n",
      " [0.4619768  0.5380232 ]\n",
      " [0.37522352 0.62477648]\n",
      " [0.32109528 0.67890472]\n",
      " [0.40656734 0.59343266]\n",
      " [0.39649216 0.60350784]\n",
      " [0.40821701 0.59178299]\n",
      " [0.36101948 0.63898052]\n",
      " [0.39773347 0.60226653]\n",
      " [0.36233975 0.63766025]\n",
      " [0.36749634 0.63250366]\n",
      " [0.41025606 0.58974394]\n",
      " [0.37668201 0.62331799]\n",
      " [0.38845936 0.61154064]\n",
      " [0.40220048 0.59779952]\n",
      " [0.3822997  0.6177003 ]\n",
      " [0.34004785 0.65995215]\n",
      " [0.43981265 0.56018735]\n",
      " [0.37980137 0.62019863]\n",
      " [0.36092351 0.63907649]\n",
      " [0.44372299 0.55627701]\n",
      " [0.34891373 0.65108627]\n",
      " [0.39850668 0.60149332]\n",
      " [0.44195224 0.55804776]\n",
      " [0.42527428 0.57472572]\n",
      " [0.39188614 0.60811386]\n",
      " [0.44689109 0.55310891]\n",
      " [0.34514967 0.65485033]\n",
      " [0.39007651 0.60992349]\n",
      " [0.31159709 0.68840291]\n",
      " [0.37065053 0.62934947]\n",
      " [0.35386222 0.64613778]\n",
      " [0.35909534 0.64090466]\n",
      " [0.35720183 0.64279817]\n",
      " [0.38532717 0.61467283]\n",
      " [0.39312797 0.60687203]\n",
      " [0.39510056 0.60489944]\n",
      " [0.33210599 0.66789401]\n",
      " [0.41211696 0.58788304]\n",
      " [0.36778607 0.63221393]\n",
      " [0.35118418 0.64881582]\n",
      " [0.36453152 0.63546848]\n",
      " [0.35996377 0.64003623]\n",
      " [0.36432586 0.63567414]\n",
      " [0.35243095 0.64756905]\n",
      " [0.37575553 0.62424447]\n",
      " [0.34110381 0.65889619]\n",
      " [0.35955243 0.64044757]\n",
      " [0.37416085 0.62583915]\n",
      " [0.33983447 0.66016553]\n",
      " [0.35255146 0.64744854]\n",
      " [0.34101078 0.65898922]\n",
      " [0.3494502  0.6505498 ]\n",
      " [0.36633386 0.63366614]\n",
      " [0.36610395 0.63389605]\n",
      " [0.42080868 0.57919132]\n",
      " [0.37464611 0.62535389]\n",
      " [0.41185418 0.58814582]\n",
      " [0.34395755 0.65604245]\n",
      " [0.36970571 0.63029429]\n",
      " [0.41849442 0.58150558]\n",
      " [0.35182879 0.64817121]\n",
      " [0.3854854  0.6145146 ]\n",
      " [0.36857707 0.63142293]\n",
      " [0.40698129 0.59301871]\n",
      " [0.35373674 0.64626326]\n",
      " [0.39534551 0.60465449]\n",
      " [0.449609   0.550391  ]\n",
      " [0.36694582 0.63305418]\n",
      " [0.39302685 0.60697315]\n",
      " [0.40005084 0.59994916]\n",
      " [0.34501407 0.65498593]\n",
      " [0.42357732 0.57642268]\n",
      " [0.36541895 0.63458105]\n",
      " [0.37127284 0.62872716]\n",
      " [0.31894355 0.68105645]\n",
      " [0.42622671 0.57377329]\n",
      " [0.36016267 0.63983733]\n",
      " [0.36081609 0.63918391]\n",
      " [0.33897609 0.66102391]\n",
      " [0.34881559 0.65118441]\n",
      " [0.41005282 0.58994718]\n",
      " [0.39637659 0.60362341]\n",
      " [0.41740179 0.58259821]\n",
      " [0.36099744 0.63900256]\n",
      " [0.33089637 0.66910363]\n",
      " [0.37722408 0.62277592]\n",
      " [0.3823677  0.6176323 ]\n",
      " [0.35310539 0.64689461]\n",
      " [0.38374921 0.61625079]\n",
      " [0.39671662 0.60328338]\n",
      " [0.39839245 0.60160755]\n",
      " [0.37542208 0.62457792]\n",
      " [0.38137953 0.61862047]\n",
      " [0.33026945 0.66973055]\n",
      " [0.39277799 0.60722201]\n",
      " [0.34498494 0.65501506]\n",
      " [0.33478179 0.66521821]\n",
      " [0.43457904 0.56542096]\n",
      " [0.35915836 0.64084164]\n",
      " [0.32550211 0.67449789]\n",
      " [0.35031182 0.64968818]\n",
      " [0.35181218 0.64818782]\n",
      " [0.40182401 0.59817599]\n",
      " [0.39388067 0.60611933]\n",
      " [0.43253964 0.56746036]\n",
      " [0.44427204 0.55572796]\n",
      " [0.42452282 0.57547718]\n",
      " [0.3303356  0.6696644 ]\n",
      " [0.35335923 0.64664077]\n",
      " [0.35049395 0.64950605]\n",
      " [0.34185539 0.65814461]\n",
      " [0.35558664 0.64441336]\n",
      " [0.32371897 0.67628103]\n",
      " [0.41827523 0.58172477]\n",
      " [0.36172052 0.63827948]\n",
      " [0.42801746 0.57198254]\n",
      " [0.41550274 0.58449726]\n",
      " [0.35605342 0.64394658]\n",
      " [0.38074334 0.61925666]\n",
      " [0.3973076  0.6026924 ]\n",
      " [0.4010584  0.5989416 ]\n",
      " [0.38825329 0.61174671]\n",
      " [0.39329392 0.60670608]\n",
      " [0.34839196 0.65160804]\n",
      " [0.35232087 0.64767913]\n",
      " [0.41075531 0.58924469]\n",
      " [0.31853755 0.68146245]\n",
      " [0.42253889 0.57746111]\n",
      " [0.41692669 0.58307331]\n",
      " [0.32621612 0.67378388]\n",
      " [0.38397168 0.61602832]\n",
      " [0.34826252 0.65173748]\n",
      " [0.33506301 0.66493699]\n",
      " [0.38903239 0.61096761]\n",
      " [0.39016262 0.60983738]\n",
      " [0.34038774 0.65961226]\n",
      " [0.36831401 0.63168599]\n",
      " [0.34683129 0.65316871]\n",
      " [0.4177338  0.5822662 ]\n",
      " [0.3898531  0.6101469 ]\n",
      " [0.37449507 0.62550493]\n",
      " [0.33482114 0.66517886]\n",
      " [0.4295755  0.5704245 ]\n",
      " [0.43766185 0.56233815]\n",
      " [0.36156028 0.63843972]\n",
      " [0.40558244 0.59441756]\n",
      " [0.35832686 0.64167314]\n",
      " [0.35052604 0.64947396]\n",
      " [0.35968187 0.64031813]\n",
      " [0.36817604 0.63182396]\n",
      " [0.33380569 0.66619431]\n",
      " [0.34397246 0.65602754]\n",
      " [0.37396522 0.62603478]\n",
      " [0.39681269 0.60318731]\n",
      " [0.38113126 0.61886874]\n",
      " [0.41029333 0.58970667]\n",
      " [0.35482157 0.64517843]\n",
      " [0.33977664 0.66022336]\n",
      " [0.42968284 0.57031716]\n",
      " [0.36811297 0.63188703]\n",
      " [0.38791373 0.61208627]\n",
      " [0.38273098 0.61726902]\n",
      " [0.33772499 0.66227501]\n",
      " [0.34606649 0.65393351]\n",
      " [0.37465389 0.62534611]\n",
      " [0.35724163 0.64275837]\n",
      " [0.35161741 0.64838259]\n",
      " [0.37144679 0.62855321]\n",
      " [0.3958603  0.6041397 ]\n",
      " [0.33949268 0.66050732]\n",
      " [0.38158133 0.61841867]\n",
      " [0.3679119  0.6320881 ]\n",
      " [0.35820959 0.64179041]\n",
      " [0.39908561 0.60091439]\n",
      " [0.36594891 0.63405109]\n",
      " [0.3570076  0.6429924 ]\n",
      " [0.41204542 0.58795458]\n",
      " [0.44851842 0.55148158]\n",
      " [0.39434921 0.60565079]\n",
      " [0.37958943 0.62041057]\n",
      " [0.35844085 0.64155915]\n",
      " [0.36009475 0.63990525]\n",
      " [0.3978971  0.6021029 ]\n",
      " [0.36203538 0.63796462]\n",
      " [0.340929   0.659071  ]\n",
      " [0.42378312 0.57621688]\n",
      " [0.37983409 0.62016591]\n",
      " [0.36876453 0.63123547]\n",
      " [0.37535414 0.62464586]\n",
      " [0.37842121 0.62157879]\n",
      " [0.44849709 0.55150291]\n",
      " [0.42195274 0.57804726]\n",
      " [0.3613344  0.6386656 ]\n",
      " [0.38158444 0.61841556]\n",
      " [0.38062974 0.61937026]\n",
      " [0.38984702 0.61015298]\n",
      " [0.37101078 0.62898922]\n",
      " [0.35910088 0.64089912]\n",
      " [0.35855523 0.64144477]\n",
      " [0.36823238 0.63176762]\n",
      " [0.3675497  0.6324503 ]\n",
      " [0.3420078  0.6579922 ]\n",
      " [0.3989754  0.6010246 ]\n",
      " [0.35481453 0.64518547]\n",
      " [0.37499829 0.62500171]\n",
      " [0.42577517 0.57422483]\n",
      " [0.39315528 0.60684472]\n",
      " [0.38089425 0.61910575]\n",
      " [0.38883056 0.61116944]\n",
      " [0.3673914  0.6326086 ]\n",
      " [0.38768355 0.61231645]\n",
      " [0.36492375 0.63507625]\n",
      " [0.35535249 0.64464751]\n",
      " [0.36764995 0.63235005]\n",
      " [0.41619782 0.58380218]\n",
      " [0.35072429 0.64927571]\n",
      " [0.37489372 0.62510628]\n",
      " [0.34435507 0.65564493]\n",
      " [0.38574643 0.61425357]\n",
      " [0.36308225 0.63691775]\n",
      " [0.35502237 0.64497763]\n",
      " [0.3324134  0.6675866 ]\n",
      " [0.40586676 0.59413324]\n",
      " [0.40758323 0.59241677]\n",
      " [0.42376454 0.57623546]\n",
      " [0.3465888  0.6534112 ]\n",
      " [0.3979886  0.6020114 ]\n",
      " [0.38963725 0.61036275]\n",
      " [0.36329546 0.63670454]\n",
      " [0.39706839 0.60293161]\n",
      " [0.40490723 0.59509277]\n",
      " [0.40109558 0.59890442]\n",
      " [0.36717605 0.63282395]\n",
      " [0.36983618 0.63016382]\n",
      " [0.36090641 0.63909359]\n",
      " [0.36283178 0.63716822]\n",
      " [0.45148159 0.54851841]\n",
      " [0.38905505 0.61094495]\n",
      " [0.34455779 0.65544221]\n",
      " [0.36083637 0.63916363]\n",
      " [0.38083131 0.61916869]\n",
      " [0.4048205  0.5951795 ]\n",
      " [0.40697618 0.59302382]\n",
      " [0.45914988 0.54085012]\n",
      " [0.38801836 0.61198164]\n",
      " [0.38887812 0.61112188]\n",
      " [0.42526586 0.57473414]\n",
      " [0.34852681 0.65147319]\n",
      " [0.33689338 0.66310662]\n",
      " [0.34522341 0.65477659]\n",
      " [0.4110261  0.5889739 ]\n",
      " [0.37502323 0.62497677]\n",
      " [0.35020514 0.64979486]\n",
      " [0.31253342 0.68746658]\n",
      " [0.31877924 0.68122076]\n",
      " [0.3720552  0.6279448 ]\n",
      " [0.43960286 0.56039714]\n",
      " [0.33807989 0.66192011]\n",
      " [0.37077593 0.62922407]\n",
      " [0.38974986 0.61025014]\n",
      " [0.38931817 0.61068183]\n",
      " [0.34038939 0.65961061]\n",
      " [0.35901955 0.64098045]\n",
      " [0.34374218 0.65625782]\n",
      " [0.38987173 0.61012827]\n",
      " [0.37925194 0.62074806]\n",
      " [0.37852122 0.62147878]\n",
      " [0.41556198 0.58443802]\n",
      " [0.39241615 0.60758385]\n",
      " [0.36665426 0.63334574]\n",
      " [0.39185431 0.60814569]\n",
      " [0.39152223 0.60847777]\n",
      " [0.40883564 0.59116436]\n",
      " [0.373755   0.626245  ]\n",
      " [0.42781736 0.57218264]\n",
      " [0.32552112 0.67447888]\n",
      " [0.39701499 0.60298501]\n",
      " [0.41852461 0.58147539]\n",
      " [0.34753849 0.65246151]\n",
      " [0.38574382 0.61425618]\n",
      " [0.34519213 0.65480787]\n",
      " [0.34102218 0.65897782]\n",
      " [0.35414103 0.64585897]\n",
      " [0.34624541 0.65375459]\n",
      " [0.40149247 0.59850753]\n",
      " [0.36564209 0.63435791]\n",
      " [0.34177864 0.65822136]\n",
      " [0.34735814 0.65264186]\n",
      " [0.36066841 0.63933159]\n",
      " [0.39145304 0.60854696]\n",
      " [0.3951605  0.6048395 ]\n",
      " [0.38697963 0.61302037]\n",
      " [0.3747708  0.6252292 ]\n",
      " [0.34435406 0.65564594]\n",
      " [0.35092386 0.64907614]\n",
      " [0.40619364 0.59380636]\n",
      " [0.3743252  0.6256748 ]\n",
      " [0.45453554 0.54546446]\n",
      " [0.39228544 0.60771456]\n",
      " [0.35308282 0.64691718]\n",
      " [0.41621533 0.58378467]\n",
      " [0.36723483 0.63276517]\n",
      " [0.41167084 0.58832916]\n",
      " [0.42785012 0.57214988]\n",
      " [0.38261366 0.61738634]\n",
      " [0.37993102 0.62006898]\n",
      " [0.34234598 0.65765402]\n",
      " [0.37114813 0.62885187]\n",
      " [0.35544128 0.64455872]\n",
      " [0.41495596 0.58504404]\n",
      " [0.35731848 0.64268152]\n",
      " [0.37344721 0.62655279]\n",
      " [0.38624996 0.61375004]\n",
      " [0.39068364 0.60931636]\n",
      " [0.36360177 0.63639823]\n",
      " [0.31060853 0.68939147]\n",
      " [0.42324079 0.57675921]\n",
      " [0.41369592 0.58630408]\n",
      " [0.33796051 0.66203949]]\n"
     ]
    }
   ],
   "source": [
    "y_pre = my_forward(X,W1,b1,W2,b2)\n",
    "print(y_pre)\n",
    "# p = np.argmax(y_pre,axis = 1)"
   ]
  },
  {
   "cell_type": "code",
   "execution_count": 120,
   "metadata": {},
   "outputs": [],
   "source": [
    "p = np.argmax(y_pre,axis = 1)"
   ]
  },
  {
   "cell_type": "code",
   "execution_count": 123,
   "metadata": {},
   "outputs": [],
   "source": [
    "rate = my_rate(p,Y)"
   ]
  },
  {
   "cell_type": "code",
   "execution_count": 124,
   "metadata": {},
   "outputs": [
    {
     "data": {
      "text/plain": [
       "0.36432160804020103"
      ]
     },
     "execution_count": 124,
     "metadata": {},
     "output_type": "execute_result"
    }
   ],
   "source": [
    "rate"
   ]
  },
  {
   "cell_type": "code",
   "execution_count": 125,
   "metadata": {},
   "outputs": [],
   "source": [
    "def my_tanh(x):\n",
    "    a = np.exp(x)\n",
    "    b = np.exp(-x)\n",
    "    return (a-b)/(a+b)"
   ]
  },
  {
   "cell_type": "code",
   "execution_count": 127,
   "metadata": {},
   "outputs": [
    {
     "data": {
      "text/plain": [
       "0.7615941559557649"
      ]
     },
     "execution_count": 127,
     "metadata": {},
     "output_type": "execute_result"
    }
   ],
   "source": [
    "my_tanh(1)"
   ]
  },
  {
   "cell_type": "code",
   "execution_count": 128,
   "metadata": {},
   "outputs": [],
   "source": [
    "z = np.array([my_tanh(3),my_tanh(1)])"
   ]
  },
  {
   "cell_type": "code",
   "execution_count": 130,
   "metadata": {},
   "outputs": [],
   "source": [
    "y_pre = z.dot(np.array([[0,1],[1,1]]))"
   ]
  },
  {
   "cell_type": "code",
   "execution_count": 131,
   "metadata": {},
   "outputs": [
    {
     "data": {
      "text/plain": [
       "array([0.76159416, 1.75664891])"
      ]
     },
     "execution_count": 131,
     "metadata": {},
     "output_type": "execute_result"
    }
   ],
   "source": [
    "y_pre"
   ]
  },
  {
   "cell_type": "code",
   "execution_count": 135,
   "metadata": {},
   "outputs": [],
   "source": [
    "num = y_pre"
   ]
  },
  {
   "cell_type": "code",
   "execution_count": 136,
   "metadata": {
    "scrolled": true
   },
   "outputs": [
    {
     "data": {
      "text/plain": [
       "array([0.26991483, 0.73008517])"
      ]
     },
     "execution_count": 136,
     "metadata": {},
     "output_type": "execute_result"
    }
   ],
   "source": [
    "sm = np.exp(num)/np.sum(np.exp(num))\n",
    "sm"
   ]
  },
  {
   "cell_type": "markdown",
   "metadata": {},
   "source": [
    "### back-propagation"
   ]
  },
  {
   "cell_type": "code",
   "execution_count": 1,
   "metadata": {},
   "outputs": [],
   "source": [
    "import numpy as np"
   ]
  },
  {
   "cell_type": "code",
   "execution_count": 2,
   "metadata": {},
   "outputs": [],
   "source": [
    "def my_forward(x,w1,b1,w2,b2):\n",
    "    z = my_sigmoid(x.dot(w1) + b1)\n",
    "    y_b = z.dot(w2) + b2\n",
    "    y = my_softmax(y_b)\n",
    "    return y   "
   ]
  },
  {
   "cell_type": "code",
   "execution_count": 3,
   "metadata": {},
   "outputs": [],
   "source": [
    "def my_rate(p,y):\n",
    "    right_count = 0\n",
    "    for i in range(len(p)):\n",
    "        if p[i] == y[i]:\n",
    "            right_count += 1\n",
    "    rate = right_count / len(p)\n",
    "    return rate"
   ]
  },
  {
   "cell_type": "code",
   "execution_count": null,
   "metadata": {},
   "outputs": [],
   "source": []
  }
 ],
 "metadata": {
  "kernelspec": {
   "display_name": "Python 3",
   "language": "python",
   "name": "python3"
  },
  "language_info": {
   "codemirror_mode": {
    "name": "ipython",
    "version": 3
   },
   "file_extension": ".py",
   "mimetype": "text/x-python",
   "name": "python",
   "nbconvert_exporter": "python",
   "pygments_lexer": "ipython3",
   "version": "3.6.4"
  }
 },
 "nbformat": 4,
 "nbformat_minor": 2
}
